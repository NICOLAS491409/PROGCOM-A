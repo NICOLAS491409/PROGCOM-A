{
  "nbformat": 4,
  "nbformat_minor": 0,
  "metadata": {
    "colab": {
      "provenance": [],
      "authorship_tag": "ABX9TyP/05dvZNZ/dNZF/YWPQl4n",
      "include_colab_link": true
    },
    "kernelspec": {
      "name": "python3",
      "display_name": "Python 3"
    },
    "language_info": {
      "name": "python"
    }
  },
  "cells": [
    {
      "cell_type": "markdown",
      "metadata": {
        "id": "view-in-github",
        "colab_type": "text"
      },
      "source": [
        "<a href=\"https://colab.research.google.com/github/NICOLAS491409/PROGCOM-A/blob/main/Trabajo_GP4.ipynb\" target=\"_parent\"><img src=\"https://colab.research.google.com/assets/colab-badge.svg\" alt=\"Open In Colab\"/></a>"
      ]
    },
    {
      "cell_type": "code",
      "execution_count": 4,
      "metadata": {
        "colab": {
          "base_uri": "https://localhost:8080/",
          "height": 348
        },
        "id": "sf8GlCkuunb8",
        "outputId": "2c1e0423-cebb-43be-b7d8-c1258c67a84a"
      },
      "outputs": [
        {
          "output_type": "error",
          "ename": "TclError",
          "evalue": "no display name and no $DISPLAY environment variable",
          "traceback": [
            "\u001b[0;31m---------------------------------------------------------------------------\u001b[0m",
            "\u001b[0;31mTclError\u001b[0m                                  Traceback (most recent call last)",
            "\u001b[0;32m/tmp/ipython-input-950525688.py\u001b[0m in \u001b[0;36m<cell line: 0>\u001b[0;34m()\u001b[0m\n\u001b[1;32m     22\u001b[0m \u001b[0;34m\u001b[0m\u001b[0m\n\u001b[1;32m     23\u001b[0m \u001b[0;31m# Crear la ventana principal\u001b[0m\u001b[0;34m\u001b[0m\u001b[0;34m\u001b[0m\u001b[0m\n\u001b[0;32m---> 24\u001b[0;31m \u001b[0mventana\u001b[0m \u001b[0;34m=\u001b[0m \u001b[0mtk\u001b[0m\u001b[0;34m.\u001b[0m\u001b[0mTk\u001b[0m\u001b[0;34m(\u001b[0m\u001b[0;34m)\u001b[0m\u001b[0;34m\u001b[0m\u001b[0;34m\u001b[0m\u001b[0m\n\u001b[0m\u001b[1;32m     25\u001b[0m \u001b[0mventana\u001b[0m\u001b[0;34m.\u001b[0m\u001b[0mtitle\u001b[0m\u001b[0;34m(\u001b[0m\u001b[0;34m\"Piedra, Papel o Tijera\"\u001b[0m\u001b[0;34m)\u001b[0m\u001b[0;34m\u001b[0m\u001b[0;34m\u001b[0m\u001b[0m\n\u001b[1;32m     26\u001b[0m \u001b[0mventana\u001b[0m\u001b[0;34m.\u001b[0m\u001b[0mgeometry\u001b[0m\u001b[0;34m(\u001b[0m\u001b[0;34m\"300x300\"\u001b[0m\u001b[0;34m)\u001b[0m\u001b[0;34m\u001b[0m\u001b[0;34m\u001b[0m\u001b[0m\n",
            "\u001b[0;32m/usr/lib/python3.12/tkinter/__init__.py\u001b[0m in \u001b[0;36m__init__\u001b[0;34m(self, screenName, baseName, className, useTk, sync, use)\u001b[0m\n\u001b[1;32m   2347\u001b[0m                 \u001b[0mbaseName\u001b[0m \u001b[0;34m=\u001b[0m \u001b[0mbaseName\u001b[0m \u001b[0;34m+\u001b[0m \u001b[0mext\u001b[0m\u001b[0;34m\u001b[0m\u001b[0;34m\u001b[0m\u001b[0m\n\u001b[1;32m   2348\u001b[0m         \u001b[0minteractive\u001b[0m \u001b[0;34m=\u001b[0m \u001b[0;32mFalse\u001b[0m\u001b[0;34m\u001b[0m\u001b[0;34m\u001b[0m\u001b[0m\n\u001b[0;32m-> 2349\u001b[0;31m         \u001b[0mself\u001b[0m\u001b[0;34m.\u001b[0m\u001b[0mtk\u001b[0m \u001b[0;34m=\u001b[0m \u001b[0m_tkinter\u001b[0m\u001b[0;34m.\u001b[0m\u001b[0mcreate\u001b[0m\u001b[0;34m(\u001b[0m\u001b[0mscreenName\u001b[0m\u001b[0;34m,\u001b[0m \u001b[0mbaseName\u001b[0m\u001b[0;34m,\u001b[0m \u001b[0mclassName\u001b[0m\u001b[0;34m,\u001b[0m \u001b[0minteractive\u001b[0m\u001b[0;34m,\u001b[0m \u001b[0mwantobjects\u001b[0m\u001b[0;34m,\u001b[0m \u001b[0museTk\u001b[0m\u001b[0;34m,\u001b[0m \u001b[0msync\u001b[0m\u001b[0;34m,\u001b[0m \u001b[0muse\u001b[0m\u001b[0;34m)\u001b[0m\u001b[0;34m\u001b[0m\u001b[0;34m\u001b[0m\u001b[0m\n\u001b[0m\u001b[1;32m   2350\u001b[0m         \u001b[0;32mif\u001b[0m \u001b[0m_debug\u001b[0m\u001b[0;34m:\u001b[0m\u001b[0;34m\u001b[0m\u001b[0;34m\u001b[0m\u001b[0m\n\u001b[1;32m   2351\u001b[0m             \u001b[0mself\u001b[0m\u001b[0;34m.\u001b[0m\u001b[0mtk\u001b[0m\u001b[0;34m.\u001b[0m\u001b[0msettrace\u001b[0m\u001b[0;34m(\u001b[0m\u001b[0m_print_command\u001b[0m\u001b[0;34m)\u001b[0m\u001b[0;34m\u001b[0m\u001b[0;34m\u001b[0m\u001b[0m\n",
            "\u001b[0;31mTclError\u001b[0m: no display name and no $DISPLAY environment variable"
          ]
        }
      ],
      "source": [
        "import tkinter as tk\n",
        "import random\n",
        "\n",
        "# Opciones del juego\n",
        "opciones = [\"piedra\", \"papel\", \"tijera\"]\n",
        "\n",
        "# Función principal del juego\n",
        "def jugar(eleccionJugador):\n",
        "    eleccionCompu = random.choice(opciones)\n",
        "\n",
        "    etiquetaJugador.config(text=\"Tu elegiste: \" + eleccionJugador)\n",
        "    etiquetaCompu.config(text=\"La compu eligio: \" + eleccionCompu)\n",
        "\n",
        "    if eleccionJugador == eleccionCompu:\n",
        "        etiquetaResultado.config(text=\"Empate \")\n",
        "    elif (eleccionJugador == \"piedra\" and eleccionCompu == \"tijera\") or \\\n",
        "         (eleccionJugador == \"papel\" and eleccionCompu == \"piedra\") or \\\n",
        "         (eleccionJugador == \"tijera\" and eleccionCompu == \"papel\"):\n",
        "        etiquetaResultado.config(text=\"¡Ganaste! \")\n",
        "    else:\n",
        "        etiquetaResultado.config(text=\"El computador gano \")\n",
        "\n",
        "# Crear la ventana principal\n",
        "ventana = tk.Tk()\n",
        "ventana.title(\"Piedra, Papel o Tijera\")\n",
        "ventana.geometry(\"300x300\")\n",
        "ventana.resizable(False, False)\n",
        "\n",
        "# Etiquetas\n",
        "textoInstruccion = tk.Label(ventana, text=\"Elige una opcion:\", font=(\"Arial\", 14))\n",
        "textoInstruccion.pack(pady=10)\n",
        "\n",
        "marcoBotones = tk.Frame(ventana)\n",
        "marcoBotones.pack()\n",
        "\n",
        "# Botones\n",
        "botonPiedra = tk.Button(marcoBotones, text=\" Piedra\", width=10, command=lambda: jugar(\"piedra\"))\n",
        "botonPapel = tk.Button(marcoBotones, text=\" Papel\", width=10, command=lambda: jugar(\"papel\"))\n",
        "botonTijera = tk.Button(marcoBotones, text=\" Tijera\", width=10, command=lambda: jugar(\"tijera\"))\n",
        "\n",
        "botonPiedra.grid(row=0, column=0, padx=5)\n",
        "botonPapel.grid(row=0, column=1, padx=5)\n",
        "botonTijera.grid(row=0, column=2, padx=5)\n",
        "\n",
        "etiquetaJugador = tk.Label(ventana, text=\"\", font=(\"Arial\", 12))\n",
        "etiquetaJugador.pack(pady=5)\n",
        "\n",
        "etiquetaCompu = tk.Label(ventana, text=\"\", font=(\"Arial\", 12))\n",
        "etiquetaCompu.pack(pady=5)\n",
        "\n",
        "etiquetaResultado = tk.Label(ventana, text=\"\", font=(\"Arial\", 16, \"bold\"))\n",
        "etiquetaResultado.pack(pady=15)\n",
        "\n",
        "# Iniciar la interfaz\n",
        "ventana.mainloop()\n"
      ]
    }
  ]
}