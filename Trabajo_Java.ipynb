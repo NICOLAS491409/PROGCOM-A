{
  "nbformat": 4,
  "nbformat_minor": 0,
  "metadata": {
    "colab": {
      "provenance": [],
      "authorship_tag": "ABX9TyPu76Jksou4ckwyaSjF71bM",
      "include_colab_link": true
    },
    "kernelspec": {
      "name": "python3",
      "display_name": "Python 3"
    },
    "language_info": {
      "name": "python"
    }
  },
  "cells": [
    {
      "cell_type": "markdown",
      "metadata": {
        "id": "view-in-github",
        "colab_type": "text"
      },
      "source": [
        "<a href=\"https://colab.research.google.com/github/NICOLAS491409/PROGCOM-A/blob/main/Trabajo_Java.ipynb\" target=\"_parent\"><img src=\"https://colab.research.google.com/assets/colab-badge.svg\" alt=\"Open In Colab\"/></a>"
      ]
    },
    {
      "cell_type": "markdown",
      "source": [
        "##Ejercicios de java"
      ],
      "metadata": {
        "id": "Vr2BN_CvruLv"
      }
    },
    {
      "cell_type": "code",
      "source": [
        "import java.util.*;\n",
        "public class Main {\n",
        "public static void main(String[] args) {\n",
        "List<String> combo = new ArrayList<>();\n",
        "String[] letras = {\"a\", \"b\"};\n",
        "int[] números = {1, 2, 3};\n",
        "for (String l : letras) {\n",
        "for (int n : números) {\n",
        "combo.add(l + n);\n",
        "}\n",
        "}\n",
        "System.out.println(\"Combinaciones: \" + combo);\n",
        "}\n",
        "}"
      ],
      "metadata": {
        "colab": {
          "base_uri": "https://localhost:8080/",
          "height": 110
        },
        "id": "fyf3RKQyrxmG",
        "outputId": "ae799ee2-f1b2-468f-cad7-22503edd628e"
      },
      "execution_count": 2,
      "outputs": [
        {
          "output_type": "error",
          "ename": "SyntaxError",
          "evalue": "invalid syntax (ipython-input-2867680299.py, line 1)",
          "traceback": [
            "\u001b[0;36m  File \u001b[0;32m\"/tmp/ipython-input-2867680299.py\"\u001b[0;36m, line \u001b[0;32m1\u001b[0m\n\u001b[0;31m    import java.util.*;\u001b[0m\n\u001b[0m                     ^\u001b[0m\n\u001b[0;31mSyntaxError\u001b[0m\u001b[0;31m:\u001b[0m invalid syntax\n"
          ]
        }
      ]
    },
    {
      "cell_type": "code",
      "source": [
        "import java.util.*;\n",
        "public class Main {\n",
        "public static void main(String[] args) {\n",
        "List<Integer> cuadra = new ArrayList<>();\n",
        "for (int x = 1; x <= 10; x++) {\n",
        "cuadra.add(x * x);\n",
        "}\n",
        "System.out.println(\"Cuadrados del 1 al 10: \" + cuadra);\n",
        "}\n",
        "}"
      ],
      "metadata": {
        "id": "PaXNhr2YsAMf"
      },
      "execution_count": null,
      "outputs": []
    },
    {
      "cell_type": "code",
      "source": [
        "import java.util.*;\n",
        "public class Main {\n",
        "public static void main(String[] args) {\n",
        "List<String> palabras = Arrays.asList(\"sol\", \"estrella\", \"mar\", \"planeta\");\n",
        "List<String> letras = new ArrayList<>();\n",
        "for (String a : palabras) {\n",
        "if (a.length() > 4) {\n",
        "letras.add(a);\n",
        "}\n",
        "}\n",
        "System.out.println(\"Las palabras con más de 4 letras son: \" + letras);\n",
        "}\n",
        "}"
      ],
      "metadata": {
        "id": "-Tjmon9VsDMR"
      },
      "execution_count": null,
      "outputs": []
    },
    {
      "cell_type": "code",
      "source": [
        "import java.util.*;\n",
        "public class Main {\n",
        "public static void main(String[] args) {\n",
        "ArrayList<Integer> doble = new ArrayList<>();\n",
        "for (int i = 1; i <= 5; i++) {\n",
        "doble.add(i * 2);\n",
        "}\n",
        "System.out.println(\"Doble de cada número del 1 al 5:\");\n",
        "System.out.println(doble);\n",
        "}\n",
        "}"
      ],
      "metadata": {
        "id": "J0tzK750sF8h"
      },
      "execution_count": null,
      "outputs": []
    },
    {
      "cell_type": "code",
      "source": [
        "import java.util.*;\n",
        "public class Main {\n",
        "public static void main(String[] args) {\n",
        "List<String> lenguaje = Arrays.asList(\"python\", \"java\", \"c++\");\n",
        "List<String> mayúsculas = new ArrayList<>();\n",
        "for (String l : lenguaje) {\n",
        "mayúsculas.add(l.toUpperCase());\n",
        "}\n",
        "System.out.println(\"Palabras en mayúsculas: \" + mayúsculas);\n",
        "}\n",
        "}"
      ],
      "metadata": {
        "id": "TvgtE8KosIVO"
      },
      "execution_count": null,
      "outputs": []
    },
    {
      "cell_type": "code",
      "source": [
        "import java.util.*;\n",
        "public class Main {\n",
        "public static void main(String[] args) {\n",
        "List<String> lista = new ArrayList<>();\n",
        "for (int z = 1; z <= 10; z++) {\n",
        "if (z % 2 == 0) {\n",
        "lista.add(z + \" es par\");\n",
        "} else {\n",
        "lista.add(z + \" es impar\");\n",
        "}\n",
        "}\n",
        "System.out.println(\"Par o impar: \" + lista);\n",
        "}\n",
        "}"
      ],
      "metadata": {
        "id": "AxyKins1sUVO"
      },
      "execution_count": null,
      "outputs": []
    },
    {
      "cell_type": "code",
      "source": [
        "import java.util.*;\n",
        "public class Main {\n",
        "public static void main(String[] args) {\n",
        "List<Integer> par = new ArrayList<>();\n",
        "for (int z = 0; z <= 20; z++) {\n",
        "if (z % 2 == 0) {\n",
        "par.add(z);\n",
        "}\n",
        "}\n",
        "System.out.println(\"Números pares del 0 al 20: \" + par);\n",
        "}\n",
        "}"
      ],
      "metadata": {
        "id": "hwwSjRgksYfQ"
      },
      "execution_count": null,
      "outputs": []
    },
    {
      "cell_type": "code",
      "source": [
        "import java.util.*;\n",
        "public class Main {\n",
        "public static void main(String[] args) {\n",
        "List<String> tuplas = new ArrayList<>();\n",
        "for (int a = 1; a <= 5; a++) {\n",
        "tuplas.add(\"(\" + a + \", \" + (a * a) + \")\");\n",
        "}\n",
        "System.out.println(\"Tuplas: \" + tuplas);\n",
        "}\n",
        "}"
      ],
      "metadata": {
        "id": "Q8Z3GwZ5sbu-"
      },
      "execution_count": null,
      "outputs": []
    },
    {
      "cell_type": "code",
      "source": [
        "import java.util.*;\n",
        "public class Main {\n",
        "public static void main(String[] args) {\n",
        "String palabra = \"programacion\";\n",
        "ArrayList<Character> vocal = new ArrayList<>();\n",
        "for (int x = 0; x < palabra.length(); x++) {\n",
        "char c = palabra.charAt(x);\n",
        "if (\"aeiou\".indexOf(c) != -1) {\n",
        "vocal.add(c);\n",
        "}\n",
        "}\n",
        "System.out.println(\"Vocales en la palabra (programacion):\");\n",
        "System.out.println(vocal);\n",
        "}\n",
        "}"
      ],
      "metadata": {
        "id": "OHgv3l3OsgVO"
      },
      "execution_count": null,
      "outputs": []
    }
  ]
}