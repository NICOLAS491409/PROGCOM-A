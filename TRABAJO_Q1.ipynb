{
  "nbformat": 4,
  "nbformat_minor": 0,
  "metadata": {
    "colab": {
      "provenance": [],
      "authorship_tag": "ABX9TyNqisIdxIImV4IEZH63uAaY",
      "include_colab_link": true
    },
    "kernelspec": {
      "name": "python3",
      "display_name": "Python 3"
    },
    "language_info": {
      "name": "python"
    }
  },
  "cells": [
    {
      "cell_type": "markdown",
      "metadata": {
        "id": "view-in-github",
        "colab_type": "text"
      },
      "source": [
        "<a href=\"https://colab.research.google.com/github/NICOLAS491409/PROGCOM-A/blob/main/TRABAJO_Q1.ipynb\" target=\"_parent\"><img src=\"https://colab.research.google.com/assets/colab-badge.svg\" alt=\"Open In Colab\"/></a>"
      ]
    },
    {
      "cell_type": "markdown",
      "source": [
        "##TRABAJO DE PROGRAMAR CON TIEMPO UNA FECHA PARA UNA ACTIVIDAD"
      ],
      "metadata": {
        "id": "yAdZ0_zo8aWm"
      }
    },
    {
      "cell_type": "markdown",
      "source": [
        "Tengo planeado para el Domingo 21 de septiembre comprar una atividad pensada"
      ],
      "metadata": {
        "id": "aQSWqTvy8v6l"
      }
    }
  ]
}