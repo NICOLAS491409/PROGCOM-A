{
  "nbformat": 4,
  "nbformat_minor": 0,
  "metadata": {
    "colab": {
      "provenance": [],
      "authorship_tag": "ABX9TyMMRk8OmWh4lQF1bzYuNbT1",
      "include_colab_link": true
    },
    "kernelspec": {
      "name": "python3",
      "display_name": "Python 3"
    },
    "language_info": {
      "name": "python"
    }
  },
  "cells": [
    {
      "cell_type": "markdown",
      "metadata": {
        "id": "view-in-github",
        "colab_type": "text"
      },
      "source": [
        "<a href=\"https://colab.research.google.com/github/NICOLAS491409/PROGCOM-A/blob/main/Untitled4.ipynb\" target=\"_parent\"><img src=\"https://colab.research.google.com/assets/colab-badge.svg\" alt=\"Open In Colab\"/></a>"
      ]
    },
    {
      "cell_type": "markdown",
      "source": [
        "#FUNCIONES\n",
        "copiado dinámico.\n",
        "Dio nacimiento a un nuevo paradigma de programación llamado programación modular.\n",
        "##Forma general de programar funciones.\n",
        "\n",
        "\n",
        "```\n",
        "def (nombre_de_función)(p,p2,p3,,,pn):\n",
        "  donde p,p2,p3....pn: son parámetros  \n",
        "```\n",
        "\n"
      ],
      "metadata": {
        "id": "SqW4HL7m3xAs"
      }
    },
    {
      "cell_type": "markdown",
      "source": [
        "1. list()\n",
        "2. len()\n",
        "3. print()\n",
        "4. append()#Método\n",
        "5. int()\n",
        "6. input()\n"
      ],
      "metadata": {
        "id": "3n0isZng5Rv6"
      }
    },
    {
      "cell_type": "markdown",
      "source": [
        "##Tipos de funciones\n",
        "1. sin parametros, sin retorno\n",
        "2. sin parametros, con retorno\n",
        "3. con parametros, sin retorno\n",
        "4. con parametros, con retorno"
      ],
      "metadata": {
        "id": "vwl55WVa6JRZ"
      }
    },
    {
      "cell_type": "markdown",
      "source": [
        "###1. sin parametros, sin retorno\n",
        "Se emplea como copiado dinámico"
      ],
      "metadata": {
        "id": "XyMGiiyd6gJy"
      }
    },
    {
      "cell_type": "code",
      "execution_count": 9,
      "metadata": {
        "id": "HvS6SLBl3u8p"
      },
      "outputs": [],
      "source": [
        "#Ejemplo:Entrada de cajero electrónico\n",
        "def cajero():# Esto significa que sin parametros\n",
        "  print(\"Bienvenido a DaviUNAB\")\n",
        "  print(\"Estas son las operaciones que puede realizar:\")\n",
        "  print(\"1. Retirar/n2 transferencia\\n3. Denunciar\\4.operaciones sin tarjeta\")"
      ]
    },
    {
      "cell_type": "code",
      "source": [
        "cajero()"
      ],
      "metadata": {
        "id": "LWjDmpvd9_Xd"
      },
      "execution_count": null,
      "outputs": []
    },
    {
      "cell_type": "markdown",
      "source": [
        "###2. Sin parametros, con retorno"
      ],
      "metadata": {
        "id": "4dMxc5949URO"
      }
    },
    {
      "cell_type": "code",
      "source": [
        "#Ejemplo:Entrada de cajero electrónico\n",
        "def cajero2():# Esto significa que sin parametros\n",
        "  print(\"Bienvenido a DaviUNAB\")\n",
        "  print(\"Estas son las operaciones que puede realizar:\")\n",
        "  print(\"1. Retirar/2 transferencia\\3. Denunciar\\4.operaciones sin tarjeta\")\n",
        "  rta=input(\"ingrese una opción\")#variable local"
      ],
      "metadata": {
        "id": "pCHT5btx9bE-"
      },
      "execution_count": 36,
      "outputs": []
    },
    {
      "cell_type": "code",
      "source": [
        "cajero2()"
      ],
      "metadata": {
        "colab": {
          "base_uri": "https://localhost:8080/"
        },
        "id": "d6qOMlvI94wm",
        "outputId": "2eb17eb5-25bc-4d77-ac3e-0f0efe28cd11"
      },
      "execution_count": 37,
      "outputs": [
        {
          "name": "stdout",
          "output_type": "stream",
          "text": [
            "Bienvenido a DaviUNAB\n",
            "Estas son las operaciones que puede realizar:\n",
            "1. Retirar/2 transferencia\u0003. Denunciar\u0004.operaciones sin tarjeta\n",
            "ingrese una opción3\n"
          ]
        }
      ]
    },
    {
      "cell_type": "code",
      "source": [
        "#Ejemplo:Entrada de cajero electrónico\n",
        "def cajero2():# Esto significa que sin parametros\n",
        "  print(\"Bienvenido a DaviUNAB\")\n",
        "  print(\"Estas son las operaciones que puede realizar:\")\n",
        "  print(\"1. Retirar/2 transferencia\\3. Denunciar\\4.operaciones sin tarjeta\")\n",
        "  rta=input(\"ingrese una opción\")#variable local\n",
        "  return rta#vuela una variable local a una global"
      ],
      "metadata": {
        "id": "TeGpKz4t_F9m"
      },
      "execution_count": 40,
      "outputs": []
    },
    {
      "cell_type": "code",
      "source": [
        "rta=cajero2()"
      ],
      "metadata": {
        "colab": {
          "base_uri": "https://localhost:8080/"
        },
        "id": "GXytbWS6_n9U",
        "outputId": "157d29a4-09a5-4b60-9f01-b18cea5e85ec"
      },
      "execution_count": 41,
      "outputs": [
        {
          "name": "stdout",
          "output_type": "stream",
          "text": [
            "Bienvenido a DaviUNAB\n",
            "Estas son las operaciones que puede realizar:\n",
            "1. Retirar/2 transferencia\u0003. Denunciar\u0004.operaciones sin tarjeta\n",
            "ingrese una opción2\n"
          ]
        }
      ]
    },
    {
      "cell_type": "code",
      "source": [
        "type(rta)"
      ],
      "metadata": {
        "id": "7zNnoO0Y_4Lz"
      },
      "execution_count": null,
      "outputs": []
    },
    {
      "cell_type": "markdown",
      "source": [
        "3. Con parametros, sin retorno"
      ],
      "metadata": {
        "id": "5iZhqFsE_6lr"
      }
    },
    {
      "cell_type": "code",
      "source": [
        "#Ejemplo: el área de un rectángulo\n",
        "def ab(u,du)\n",
        "    print(f\"El area de un rectangulo de base {u} y altura {du} es\")"
      ],
      "metadata": {
        "colab": {
          "base_uri": "https://localhost:8080/",
          "height": 110
        },
        "id": "zWGaPyvwACez",
        "outputId": "ba96da6c-6efe-410c-b567-48d4631a8458"
      },
      "execution_count": 42,
      "outputs": [
        {
          "output_type": "error",
          "ename": "SyntaxError",
          "evalue": "expected ':' (ipython-input-2372652358.py, line 2)",
          "traceback": [
            "\u001b[0;36m  File \u001b[0;32m\"/tmp/ipython-input-2372652358.py\"\u001b[0;36m, line \u001b[0;32m2\u001b[0m\n\u001b[0;31m    def ab(u,du)\u001b[0m\n\u001b[0m                ^\u001b[0m\n\u001b[0;31mSyntaxError\u001b[0m\u001b[0;31m:\u001b[0m expected ':'\n"
          ]
        }
      ]
    },
    {
      "cell_type": "code",
      "source": [
        "ab(2,3)"
      ],
      "metadata": {
        "colab": {
          "base_uri": "https://localhost:8080/",
          "height": 147
        },
        "id": "ZXoTWT9CAaV7",
        "outputId": "3d83f689-bc74-4880-b8f2-1e17b29261e9"
      },
      "execution_count": 43,
      "outputs": [
        {
          "output_type": "error",
          "ename": "NameError",
          "evalue": "name 'ab' is not defined",
          "traceback": [
            "\u001b[0;31m---------------------------------------------------------------------------\u001b[0m",
            "\u001b[0;31mNameError\u001b[0m                                 Traceback (most recent call last)",
            "\u001b[0;32m/tmp/ipython-input-3205326372.py\u001b[0m in \u001b[0;36m<cell line: 0>\u001b[0;34m()\u001b[0m\n\u001b[0;32m----> 1\u001b[0;31m \u001b[0mab\u001b[0m\u001b[0;34m(\u001b[0m\u001b[0;36m2\u001b[0m\u001b[0;34m,\u001b[0m\u001b[0;36m3\u001b[0m\u001b[0;34m)\u001b[0m\u001b[0;34m\u001b[0m\u001b[0;34m\u001b[0m\u001b[0m\n\u001b[0m",
            "\u001b[0;31mNameError\u001b[0m: name 'ab' is not defined"
          ]
        }
      ]
    }
  ]
}