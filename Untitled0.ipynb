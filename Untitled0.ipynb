{
  "nbformat": 4,
  "nbformat_minor": 0,
  "metadata": {
    "colab": {
      "provenance": [],
      "toc_visible": true,
      "authorship_tag": "ABX9TyPHB9dM2+Z4sM7P7GmCp0q5",
      "include_colab_link": true
    },
    "kernelspec": {
      "name": "python3",
      "display_name": "Python 3"
    },
    "language_info": {
      "name": "python"
    }
  },
  "cells": [
    {
      "cell_type": "markdown",
      "metadata": {
        "id": "view-in-github",
        "colab_type": "text"
      },
      "source": [
        "<a href=\"https://colab.research.google.com/github/NICOLAS491409/PROGCOM-A/blob/main/Untitled0.ipynb\" target=\"_parent\"><img src=\"https://colab.research.google.com/assets/colab-badge.svg\" alt=\"Open In Colab\"/></a>"
      ]
    },
    {
      "cell_type": "markdown",
      "source": [],
      "metadata": {
        "id": "TSxIjy1oYEg6"
      }
    },
    {
      "cell_type": "markdown",
      "source": [
        "Ejercicio 1\n",
        "\n",
        "\n",
        "```\n",
        "Algoritmo NumerroPositivo\n",
        "    Definir numero Como Real\n",
        "    Escribir \"Ingrese un número:\"\n",
        "    Leer numero\n",
        "    Si numero > 0 Entonces\n",
        "        Escribir \"El número es positivo.\"\n",
        "    Sino\n",
        "        Escribir \"El número no es positivo.\"\n",
        "    FinSi\n",
        "FinAlgoritmo\n",
        "\n",
        "```\n",
        "\n"
      ],
      "metadata": {
        "id": "2osQmXCyYWpy"
      }
    },
    {
      "cell_type": "markdown",
      "source": [
        "Ejercicio 2\n",
        "\n",
        "\n",
        "```\n",
        "Algoritmo MayorDeEdad\n",
        "    Definir edad Como Entero\n",
        "\tEscribir \"Ingresa tu edad: \"\n",
        "    Leer edad\n",
        "\tSi edad >= 18 Entonces\n",
        "        Escribir \"Eres mayor de edad.\"\n",
        "    Sino\n",
        "        Escribir \"Eres menor de edad.\"\n",
        "    FinSi\n",
        "FinAlgoritmo\n",
        "```\n",
        "\n"
      ],
      "metadata": {
        "id": "cFxHxUi3Y-Tp"
      }
    },
    {
      "cell_type": "markdown",
      "source": [
        "Ejercicio 3\n",
        "\n",
        "\n",
        "```\n",
        "Algoritmo MayorDeDosNumeros\n",
        "    Definir num1, num2 Como Entero\n",
        "\tEscribir \"Ingresa el primer número: \"\n",
        "    Leer num1\n",
        "\tEscribir \"Ingresa el segundo número: \"\n",
        "    Leer num2\n",
        "\tSi num1 > num2 Entonces\n",
        "        Escribir \"El número mayor es: \", num1\n",
        "    Sino\n",
        "        Si num2 > num1 Entonces\n",
        "            Escribir \"El número mayor es: \", num2\n",
        "        Sino\n",
        "            Escribir \"Ambos números son iguales.\"\n",
        "        FinSi\n",
        "    FinSi\n",
        "FinAlgoritmo\n",
        "\n",
        "```\n",
        "\n"
      ],
      "metadata": {
        "id": "ss2hsUQaZTQA"
      }
    },
    {
      "cell_type": "markdown",
      "source": [
        "Ejercicio 4\n",
        "\n",
        "\n",
        "`\n",
        "\n",
        "```\n",
        "Algoritmo Calificacion\n",
        "    Definir califica Como Real\n",
        "\tEscribir \"Ingresa tu califica (0-100): \"\n",
        "    Leer califica\n",
        "\tSi califica >= 60 Entonces\n",
        "        Escribir \"Aprobado\"\n",
        "    Sino\n",
        "        Escribir \"Reprobado\"\n",
        "    FinSi\n",
        "FinAlgoritmo\n",
        "```\n",
        "\n",
        "\n",
        "```\n",
        "\n"
      ],
      "metadata": {
        "id": "qfQ6ndr0ZtcY"
      }
    },
    {
      "cell_type": "markdown",
      "source": [
        "Ejercicio 5\n",
        "\n",
        "\n",
        "```\n",
        "Algoritmo ParOImpar\n",
        "    Definir numero Como Entero\n",
        "\tEscribir \"Ingresa un número: \"\n",
        "    Leer numero\n",
        "\tSi numero MOD 2 = 0 Entonces\n",
        "        Escribir \"El número es par.\"\n",
        "    Sino\n",
        "        Escribir \"El número es impar.\"\n",
        "    FinSi\n",
        "FinAlgoritmo\n",
        "```\n",
        "\n"
      ],
      "metadata": {
        "id": "vy7zCz70aL7I"
      }
    },
    {
      "cell_type": "code",
      "execution_count": null,
      "metadata": {
        "id": "dre3-DcPYDgJ"
      },
      "outputs": [],
      "source": []
    },
    {
      "cell_type": "markdown",
      "source": [
        "Ejercicio 6\n",
        "\n",
        "\n",
        "```\n",
        "Algoritmo MayorDeTresNumeros\n",
        "    Definir num1, num2, num3 Como Entero\n",
        "\tEscribir \"Ingresa el primer número: \"\n",
        "    Leer num1\n",
        "\tEscribir \"Ingresa el segundo número: \"\n",
        "    Leer num2\n",
        "\tEscribir \"Ingresa el tercer número: \"\n",
        "    Leer num3\n",
        "\tSi num1 >= num2 Y num1 >= num3 Entonces\n",
        "        Escribir \"El número mayor es: \", num1\n",
        "    Sino\n",
        "        Si num2 >= num1 Y num2 >= num3 Entonces\n",
        "            Escribir \"El número mayor es: \", num2\n",
        "        Sino\n",
        "            Escribir \"El número mayor es: \", num3\n",
        "        FinSi\n",
        "    FinSi\n",
        "FinAlgoritmo\n",
        "```\n",
        "\n"
      ],
      "metadata": {
        "id": "xxhJi5xGa0r3"
      }
    }
  ]
}