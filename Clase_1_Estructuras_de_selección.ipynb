{
  "nbformat": 4,
  "nbformat_minor": 0,
  "metadata": {
    "colab": {
      "provenance": [],
      "authorship_tag": "ABX9TyOZM9MRjyP2BDXlSQnxgy28",
      "include_colab_link": true
    },
    "kernelspec": {
      "name": "python3",
      "display_name": "Python 3"
    },
    "language_info": {
      "name": "python"
    }
  },
  "cells": [
    {
      "cell_type": "markdown",
      "metadata": {
        "id": "view-in-github",
        "colab_type": "text"
      },
      "source": [
        "<a href=\"https://colab.research.google.com/github/NICOLAS491409/PROGCOM-A/blob/main/Clase_1_Estructuras_de_selecci%C3%B3n.ipynb\" target=\"_parent\"><img src=\"https://colab.research.google.com/assets/colab-badge.svg\" alt=\"Open In Colab\"/></a>"
      ]
    },
    {
      "cell_type": "markdown",
      "source": [
        "#Estructuras de selección\n",
        "se emplean cuando se debe evaluar una condicion y esta da un valor de cerdad (V) o (F)\n",
        "\n",
        "##Estructura if-else\n",
        "\n",
        "\n",
        "```\n",
        "if (condicion):\n",
        "entro aqui, si la condición V else:\n",
        "entro aqui, si la condición es F.\n",
        "```\n",
        "\n"
      ],
      "metadata": {
        "id": "VEPCzrkrthhr"
      }
    },
    {
      "cell_type": "code",
      "execution_count": 2,
      "metadata": {
        "colab": {
          "base_uri": "https://localhost:8080/"
        },
        "id": "FQSfn2vfs96S",
        "outputId": "7751c3f9-b031-44d9-9b24-63382e098aaf"
      },
      "outputs": [
        {
          "output_type": "stream",
          "name": "stdout",
          "text": [
            "ingrese un número4\n",
            "4 es un numero positivo\n"
          ]
        }
      ],
      "source": [
        "# Escribe un programa que reciba un número e indique si es positivo\n",
        "n=int(input(\"ingrese un número\"))\n",
        "if n>0:\n",
        "  print (f\"{n} es un numero positivo\")\n",
        "else:\n",
        "  print (f\"{n} NO es un número positivo\")"
      ]
    },
    {
      "cell_type": "markdown",
      "source": [
        "##selección múltiple if-elif-else\n",
        "\n",
        "\n",
        "\n",
        "```\n",
        "if (condicion1):\n",
        "  si se cumple condicion 1, entro aquí\n",
        "  elif (condicion2)\n",
        "  si no se cumple condicion 1,\n",
        "  pero se cumple condicion 2,\n",
        "  entro aquí\n",
        "  else: si no se cumple ninguna de las\n",
        "  anteriores\n",
        "```\n",
        "\n"
      ],
      "metadata": {
        "id": "xA3rcNuq0YJ4"
      }
    },
    {
      "cell_type": "code",
      "source": [
        "if n>0: print(f\"{n} es un número positivo\")\n",
        "elif n<0: print(f\"{n} NO es un número positivo\")\n",
        "else: print(f\"{n} es 0\")"
      ],
      "metadata": {
        "colab": {
          "base_uri": "https://localhost:8080/"
        },
        "id": "-jwfSB-y1ji_",
        "outputId": "84399d83-4aee-4ab6-9d7e-059251a0a85d"
      },
      "execution_count": 5,
      "outputs": [
        {
          "output_type": "stream",
          "name": "stdout",
          "text": [
            "4 es un número positivo\n"
          ]
        }
      ]
    },
    {
      "cell_type": "code",
      "source": [
        "print(f\"{n} es un número pósitivo\") if n>0 else print(f\"{n} No es un número pósitivo\")\n"
      ],
      "metadata": {
        "colab": {
          "base_uri": "https://localhost:8080/"
        },
        "id": "fqO4y0EI4FoG",
        "outputId": "f463ae57-2ab9-4057-b901-3eddd6ae65d3"
      },
      "execution_count": 4,
      "outputs": [
        {
          "output_type": "stream",
          "name": "stdout",
          "text": [
            "4 es un número pósitivo\n"
          ]
        }
      ]
    },
    {
      "cell_type": "code",
      "source": [
        "a=f \"(n) es un numero positivo\" if n>0 else f\"(n)\" No es un numero positivo\n",
        "print(a)\n"
      ],
      "metadata": {
        "id": "XvYx54kT4r6u"
      },
      "execution_count": null,
      "outputs": []
    },
    {
      "cell_type": "markdown",
      "source": [
        "##operador teniario\n",
        "se usa cuadno hay una condicion a evaluar simple y se desea resolver una linea de código\n",
        "\n",
        "\n",
        "\n",
        "```\n",
        "(Valor de verdad V) if (condicion) else (Valor de verdad F)\n",
        "```\n",
        "\n"
      ],
      "metadata": {
        "id": "pCmBPSJR1_e4"
      }
    },
    {
      "cell_type": "markdown",
      "source": [
        "EJERCICIO 2\n"
      ],
      "metadata": {
        "id": "0xLMQ6m69BJd"
      }
    },
    {
      "cell_type": "code",
      "source": [
        "# Escribe un programa que reciba una edad e indique si la persona es mayor de edad\n",
        "edad = int(input(\"Ingresa tu edad: \"))\n",
        "if edad >= 18: print(f\"{edad} años: Eres mayor de edad\")\n",
        "else: print(f\"{edad} años: NO eres mayor de edad\")"
      ],
      "metadata": {
        "colab": {
          "base_uri": "https://localhost:8080/"
        },
        "id": "KhQNbPc29EA0",
        "outputId": "0c8738f2-6f8c-47c5-be5f-ed7974709853"
      },
      "execution_count": 6,
      "outputs": [
        {
          "output_type": "stream",
          "name": "stdout",
          "text": [
            "Ingresa tu edad: 11\n",
            "11 años: NO eres mayor de edad\n"
          ]
        }
      ]
    },
    {
      "cell_type": "code",
      "source": [
        "if edad > 18: print(f\"{edad} años: Eres mayor de edad\")\n",
        "elif edad < 18: print(f\"{edad} años: NO eres mayor de edad\")\n",
        "else: print(f\"{edad} años: Tienes exactamente 18 años\")"
      ],
      "metadata": {
        "colab": {
          "base_uri": "https://localhost:8080/"
        },
        "id": "RBgFshIW9IvE",
        "outputId": "5d5fefd8-cd6a-4386-a177-83a6e8bebc72"
      },
      "execution_count": 7,
      "outputs": [
        {
          "output_type": "stream",
          "name": "stdout",
          "text": [
            "11 años: NO eres mayor de edad\n"
          ]
        }
      ]
    },
    {
      "cell_type": "code",
      "source": [
        "print(f\"{edad} años: Eres mayor de edad\") if edad >= 18 else print(f\"{edad} años: NO eres mayor de edad\")"
      ],
      "metadata": {
        "colab": {
          "base_uri": "https://localhost:8080/"
        },
        "id": "I8g2-p_k9xwF",
        "outputId": "517accc9-a388-41ba-82c5-c8860b09e29c"
      },
      "execution_count": 8,
      "outputs": [
        {
          "output_type": "stream",
          "name": "stdout",
          "text": [
            "11 años: NO eres mayor de edad\n"
          ]
        }
      ]
    },
    {
      "cell_type": "markdown",
      "source": [
        "EJERCICIO 3"
      ],
      "metadata": {
        "id": "aDK4VuRe-D5k"
      }
    },
    {
      "cell_type": "markdown",
      "source": [
        "EJERCICIO 4"
      ],
      "metadata": {
        "id": "rnkm4ihoAKMk"
      }
    },
    {
      "cell_type": "code",
      "source": [
        "# Solicitar la calificación\n",
        "calificacion = int(input(\"Ingresa tu calificación (0-100): \"))\n",
        "# Resultado de si está aprobado o reprobado\n",
        "if calificacion >= 60: print(f\"{calificacion}: Aprobado\")\n",
        "else: print(f\"{calificacion}: Reprobado\")"
      ],
      "metadata": {
        "colab": {
          "base_uri": "https://localhost:8080/"
        },
        "id": "pAksqJaDALtl",
        "outputId": "59db84b1-74f2-4e06-9996-cb460b2fdf27"
      },
      "execution_count": 40,
      "outputs": [
        {
          "output_type": "stream",
          "name": "stdout",
          "text": [
            "Ingresa tu calificación (0-100): 20\n",
            "20: Reprobado\n"
          ]
        }
      ]
    },
    {
      "cell_type": "code",
      "source": [
        "if calificacion >= 60: print(f\"{calificacion}: Aprobado\")\n",
        "else: print(f\"{calificacion}: Reprobado\")"
      ],
      "metadata": {
        "colab": {
          "base_uri": "https://localhost:8080/"
        },
        "id": "CPak1ga9A-Q7",
        "outputId": "daf12017-844b-4cde-98ef-2e647fcb96af"
      },
      "execution_count": 41,
      "outputs": [
        {
          "output_type": "stream",
          "name": "stdout",
          "text": [
            "20: Reprobado\n"
          ]
        }
      ]
    },
    {
      "cell_type": "code",
      "source": [
        "print(f\"{calificacion}: Aprobado\") if calificacion >= 60 else print(f\"{calificacion}: Reprobado\")"
      ],
      "metadata": {
        "colab": {
          "base_uri": "https://localhost:8080/"
        },
        "id": "GVnCU0s5BQaj",
        "outputId": "c9462a5a-650d-492f-be8c-e5160d2690c0"
      },
      "execution_count": 42,
      "outputs": [
        {
          "output_type": "stream",
          "name": "stdout",
          "text": [
            "20: Reprobado\n"
          ]
        }
      ]
    },
    {
      "cell_type": "markdown",
      "source": [
        "EJERCICIO 5"
      ],
      "metadata": {
        "id": "69PWwz9FBUtM"
      }
    },
    {
      "cell_type": "code",
      "source": [
        "# Solicitar un número al usuario\n",
        "numero = int(input(\"Ingresa un número: \"))\n",
        "# El numero del usuario es par o impar\n",
        "if numero % 2 == 0: print(f\"{numero} es un número par.\")\n",
        "else: print(f\"{numero} es un número impar.\")"
      ],
      "metadata": {
        "colab": {
          "base_uri": "https://localhost:8080/"
        },
        "id": "eDctbDIBBl_T",
        "outputId": "48aa9f6f-4d92-43f5-89ef-7455f33d051c"
      },
      "execution_count": 43,
      "outputs": [
        {
          "output_type": "stream",
          "name": "stdout",
          "text": [
            "Ingresa un número: 8\n",
            "8 es un número par.\n"
          ]
        }
      ]
    },
    {
      "cell_type": "code",
      "source": [
        "if numero % 2 == 0: print(f\"{numero} es un número par.\")\n",
        "else: print(f\"{numero} es un número impar.\")"
      ],
      "metadata": {
        "colab": {
          "base_uri": "https://localhost:8080/"
        },
        "id": "FnA2V42UB63M",
        "outputId": "f4a73068-aa3c-4e52-e259-0b0e38546d5e"
      },
      "execution_count": 44,
      "outputs": [
        {
          "output_type": "stream",
          "name": "stdout",
          "text": [
            "8 es un número par.\n"
          ]
        }
      ]
    },
    {
      "cell_type": "code",
      "source": [
        "print(f\"{numero} es un número par.\") if numero % 2 == 0 else print(f\"{numero} es un número impar.\")"
      ],
      "metadata": {
        "colab": {
          "base_uri": "https://localhost:8080/"
        },
        "id": "rueVn1YdCEBi",
        "outputId": "32b614ae-0836-434c-c469-257a86b721d5"
      },
      "execution_count": 45,
      "outputs": [
        {
          "output_type": "stream",
          "name": "stdout",
          "text": [
            "8 es un número par.\n"
          ]
        }
      ]
    },
    {
      "cell_type": "markdown",
      "source": [
        "EJERCICIO 6"
      ],
      "metadata": {
        "id": "MeMapm3QCW_L"
      }
    },
    {
      "cell_type": "code",
      "source": [
        "# Solicitar tres números al usuario\n",
        "numero1 = int(input(\"Ingresa el primer número: \"))\n",
        "numero2 = int(input(\"Ingresa el segundo número: \"))\n",
        "numero3 = int(input(\"Ingresa el tercer número: \"))\n",
        "# Comparar los tres números y determinar el mayor\n",
        "if numero1 >= numero2 and numero1 >= numero3: print(f\"El mayor es: {numero1}\")\n",
        "elif numero2 >= numero1 and numero2 >= numero3: print(f\"El mayor es: {numero2}\")\n",
        "else: print(f\"El mayor es: {numero3}\")\n"
      ],
      "metadata": {
        "colab": {
          "base_uri": "https://localhost:8080/"
        },
        "id": "rbcz2t5XCZOC",
        "outputId": "73c93116-cf7e-4bc6-90f4-1d1cf0c48707"
      },
      "execution_count": 46,
      "outputs": [
        {
          "output_type": "stream",
          "name": "stdout",
          "text": [
            "Ingresa el primer número: 6\n",
            "Ingresa el segundo número: 3\n",
            "Ingresa el tercer número: 2\n",
            "El mayor es: 6\n"
          ]
        }
      ]
    },
    {
      "cell_type": "code",
      "source": [
        "if numero1 >= numero2 and numero1 >= numero3: print(f\"El mayor es: {numero1}\")\n",
        "else:\n",
        "    if numero2 >= numero1 and numero2 >= numero3: print(f\"El mayor es: {numero2}\")\n",
        "    else: print(f\"El mayor es: {numero3}\")"
      ],
      "metadata": {
        "colab": {
          "base_uri": "https://localhost:8080/"
        },
        "id": "U6fnZiTyCo6a",
        "outputId": "22bde670-e0ac-4f10-ff24-2bc3e0781d93"
      },
      "execution_count": 48,
      "outputs": [
        {
          "output_type": "stream",
          "name": "stdout",
          "text": [
            "El mayor es: 6\n"
          ]
        }
      ]
    },
    {
      "cell_type": "code",
      "source": [
        "print(f\"El mayor es: {numero1}\") if numero1 >= numero2 and numero1 >= numero3 else print(f\"El mayor es: {numero2}\") if numero2 >= numero3 else print(f\"El mayor es: {numero3}\")"
      ],
      "metadata": {
        "colab": {
          "base_uri": "https://localhost:8080/"
        },
        "id": "MOP4twMNC_xK",
        "outputId": "59cd5156-22b9-4c27-d48e-02c0355f0d8b"
      },
      "execution_count": 47,
      "outputs": [
        {
          "output_type": "stream",
          "name": "stdout",
          "text": [
            "El mayor es: 6\n"
          ]
        }
      ]
    },
    {
      "cell_type": "markdown",
      "source": [
        "EJERCICIO 7"
      ],
      "metadata": {
        "id": "mB40DqlADH9q"
      }
    },
    {
      "cell_type": "code",
      "source": [
        "# Solicitar el año al usuario\n",
        "año = int(input(\"Ingresa un año: \"))\n",
        "# Como sabemos si es bisiesto\n",
        "if año % 4 != 0: print(f\"{año}: No es bisiesto\")\n",
        "elif año % 100 != 0: print(f\"{año}: Es bisiesto\")\n",
        "elif año % 400 == 0: print(f\"{año}: Es bisiesto\")\n",
        "else: print(f\"{año}: No es bisiesto\")"
      ],
      "metadata": {
        "colab": {
          "base_uri": "https://localhost:8080/"
        },
        "id": "YZDXamjGDLai",
        "outputId": "6e1fd569-ead2-481f-b60c-09f071a8e3bc"
      },
      "execution_count": 49,
      "outputs": [
        {
          "output_type": "stream",
          "name": "stdout",
          "text": [
            "Ingresa un año: 2008\n",
            "2008: Es bisiesto\n"
          ]
        }
      ]
    },
    {
      "cell_type": "code",
      "source": [
        "if año % 4 != 0: print(f\"{año}: No es bisiesto\")\n",
        "else:\n",
        "    if año % 100 != 0: print(f\"{año}: Es bisiesto\")\n",
        "    else:\n",
        "        if año % 400 == 0: print(f\"{año}: Es bisiesto\")\n",
        "        else: print(f\"{año}: No es bisiesto\")"
      ],
      "metadata": {
        "colab": {
          "base_uri": "https://localhost:8080/"
        },
        "id": "fnkAGJvLDiT6",
        "outputId": "1ad744eb-bf3f-453b-d28f-d434c820427f"
      },
      "execution_count": 52,
      "outputs": [
        {
          "output_type": "stream",
          "name": "stdout",
          "text": [
            "2008: Es bisiesto\n"
          ]
        }
      ]
    },
    {
      "cell_type": "code",
      "source": [
        "print(f\"{año}: Es bisiesto\") if (año % 4 == 0 and (año % 100 != 0 or año % 400 == 0)) else print(f\"{año}: No es bisiesto\")"
      ],
      "metadata": {
        "colab": {
          "base_uri": "https://localhost:8080/"
        },
        "id": "GvgVsm_JD0Bj",
        "outputId": "ae7bc16b-746f-4a20-f204-b657aa65bf7c"
      },
      "execution_count": 53,
      "outputs": [
        {
          "output_type": "stream",
          "name": "stdout",
          "text": [
            "2008: Es bisiesto\n"
          ]
        }
      ]
    },
    {
      "cell_type": "markdown",
      "source": [
        "EJERCICIO 8"
      ],
      "metadata": {
        "id": "3fR53QiXD4D8"
      }
    },
    {
      "cell_type": "code",
      "source": [
        "# Solicitar la contraseña\n",
        "contraseña = input(\"Ingresa una contraseña: \")\n",
        "# Verificar las condiciones\n",
        "if len(contraseña) <= 8: print(\"La contraseña debe tener más de 8 caracteres.\")\n",
        "elif not any(caracter.isdigit() for caracter in contraseña): print(\"La contraseña debe contener al menos un número.\")\n",
        "elif not any(caracter.isupper() for caracter in contraseña): print(\"La contraseña debe contener al menos una letra mayúscula.\")\n",
        "else: print(\"Contraseña válida.\")\n"
      ],
      "metadata": {
        "colab": {
          "base_uri": "https://localhost:8080/"
        },
        "id": "eaxSIbz-D6uy",
        "outputId": "7ec13205-7de6-4a35-cd9d-279daf671299"
      },
      "execution_count": 54,
      "outputs": [
        {
          "output_type": "stream",
          "name": "stdout",
          "text": [
            "Ingresa una contraseña: 152684\n",
            "La contraseña debe tener más de 8 caracteres.\n"
          ]
        }
      ]
    },
    {
      "cell_type": "code",
      "source": [
        "if len(contraseña) <= 8: print(\"La contraseña debe tener más de 8 caracteres.\")\n",
        "else:\n",
        "    if not any(caracter.isdigit() for caracter in contraseña): print(\"La contraseña debe contener al menos un número.\")\n",
        "    else:\n",
        "        if not any(caracter.isupper() for caracter in contraseña): print(\"La contraseña debe contener al menos una letra mayúscula.\")\n",
        "        else:\n",
        "            print(\"Contraseña válida.\")"
      ],
      "metadata": {
        "colab": {
          "base_uri": "https://localhost:8080/"
        },
        "id": "mK31x9SnEOni",
        "outputId": "338a4ea2-7dbf-4e70-bdca-9d107ae85b04"
      },
      "execution_count": 55,
      "outputs": [
        {
          "output_type": "stream",
          "name": "stdout",
          "text": [
            "La contraseña debe tener más de 8 caracteres.\n"
          ]
        }
      ]
    },
    {
      "cell_type": "code",
      "source": [
        "print(\"Contraseña válida.\") if len(contraseña) > 8 and any(c.isdigit() for c in contraseña) and any(c.isupper() for c in contraseña) else print(\"Contraseña inválida.\")"
      ],
      "metadata": {
        "colab": {
          "base_uri": "https://localhost:8080/"
        },
        "id": "5nJigk6GEUhS",
        "outputId": "2597b90a-e3a6-49b0-8517-9698dfa72775"
      },
      "execution_count": 56,
      "outputs": [
        {
          "output_type": "stream",
          "name": "stdout",
          "text": [
            "Contraseña inválida.\n"
          ]
        }
      ]
    },
    {
      "cell_type": "markdown",
      "source": [
        "EJERCICIO 9"
      ],
      "metadata": {
        "id": "UxYoTvf_Ea-6"
      }
    },
    {
      "cell_type": "code",
      "source": [
        "# Leer un número\n",
        "numero = int(input(\"Ingresa un número: \"))\n",
        "# Evaluar condiciones\n",
        "if numero % 3 == 0 and numero % 5 == 0: print(\"FizzBuzz\")\n",
        "elif numero % 3 == 0: print(\"Fizz\")\n",
        "elif numero % 5 == 0: print(\"Buzz\")\n",
        "else:\n",
        "  print(numero)"
      ],
      "metadata": {
        "colab": {
          "base_uri": "https://localhost:8080/"
        },
        "id": "AOiIkDwdEc7C",
        "outputId": "754a13d0-198b-49fe-fc30-68c366516d86"
      },
      "execution_count": 57,
      "outputs": [
        {
          "output_type": "stream",
          "name": "stdout",
          "text": [
            "Ingresa un número: 2964565\n",
            "Buzz\n"
          ]
        }
      ]
    },
    {
      "cell_type": "code",
      "source": [
        "if numero % 3 == 0 and numero % 5 == 0: print(\"FizzBuzz\")\n",
        "else:\n",
        "    if numero % 3 == 0: print(\"Fizz\")\n",
        "    else:\n",
        "        if numero % 5 == 0: print(\"Buzz\")\n",
        "        else: print(numero)"
      ],
      "metadata": {
        "colab": {
          "base_uri": "https://localhost:8080/"
        },
        "id": "hKS_FppuEv0K",
        "outputId": "776a9a86-1264-4cbb-f740-93d82dca30b7"
      },
      "execution_count": 58,
      "outputs": [
        {
          "output_type": "stream",
          "name": "stdout",
          "text": [
            "Buzz\n"
          ]
        }
      ]
    },
    {
      "cell_type": "code",
      "source": [
        "print(\"FizzBuzz\") if numero % 3 == 0 and numero % 5 == 0 else print(\"Fizz\") if numero % 3 == 0 else print(\"Buzz\") if numero % 5 == 0 else print(numero)"
      ],
      "metadata": {
        "colab": {
          "base_uri": "https://localhost:8080/"
        },
        "id": "NxQktlXQE5Wy",
        "outputId": "75bb89c8-eb38-4ff8-c4c2-4cea5b0eb7bb"
      },
      "execution_count": 59,
      "outputs": [
        {
          "output_type": "stream",
          "name": "stdout",
          "text": [
            "Buzz\n"
          ]
        }
      ]
    },
    {
      "cell_type": "markdown",
      "source": [
        "EJERCICIO 10"
      ],
      "metadata": {
        "id": "rF4w_t1wE90S"
      }
    },
    {
      "cell_type": "code",
      "source": [
        "# Saldo disponible\n",
        "saldo = 1000\n",
        "# Solicitar el monto a retirar\n",
        "monto = float(input(\"Ingresa el monto a retirar: \"))\n",
        "# Verificar si se puede realizar la operación\n",
        "if monto <= 0: print(\"El monto debe ser mayor a 0.\")\n",
        "elif monto > saldo: print(\"Fondos insuficientes.\")\n",
        "else: print(f\"Operación exitosa. Has retirado ${monto}.\")"
      ],
      "metadata": {
        "colab": {
          "base_uri": "https://localhost:8080/"
        },
        "id": "68oClsx8E_9K",
        "outputId": "f0e5334c-9168-44c5-c608-bbea4dd1676d"
      },
      "execution_count": 60,
      "outputs": [
        {
          "output_type": "stream",
          "name": "stdout",
          "text": [
            "Ingresa el monto a retirar: 4000\n",
            "Fondos insuficientes.\n"
          ]
        }
      ]
    },
    {
      "cell_type": "code",
      "source": [
        "if monto <= 0: print(\"El monto debe ser mayor a 0.\")\n",
        "else:\n",
        "    if monto > saldo: print(\"Fondos insuficientes.\")\n",
        "    else: print(f\"Operación exitosa. Has retirado ${monto}.\")"
      ],
      "metadata": {
        "colab": {
          "base_uri": "https://localhost:8080/"
        },
        "id": "XL5YzeknFNia",
        "outputId": "7f00c687-c4ca-4251-a22c-14f02f0544e1"
      },
      "execution_count": 61,
      "outputs": [
        {
          "output_type": "stream",
          "name": "stdout",
          "text": [
            "Fondos insuficientes.\n"
          ]
        }
      ]
    },
    {
      "cell_type": "code",
      "source": [
        "print(\"El monto debe ser mayor a 0.\") if monto <= 0 else print(\"Fondos insuficientes.\") if monto > saldo else print(f\"Operación exitosa. Has retirado ${monto}.\")"
      ],
      "metadata": {
        "colab": {
          "base_uri": "https://localhost:8080/"
        },
        "id": "2aRdIR-gFWrr",
        "outputId": "67df7cdd-4820-40e3-a0bb-dc9a63404d8c"
      },
      "execution_count": 62,
      "outputs": [
        {
          "output_type": "stream",
          "name": "stdout",
          "text": [
            "Fondos insuficientes.\n"
          ]
        }
      ]
    }
  ]
}