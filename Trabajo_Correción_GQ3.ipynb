{
  "nbformat": 4,
  "nbformat_minor": 0,
  "metadata": {
    "colab": {
      "provenance": [],
      "authorship_tag": "ABX9TyMNEYTK8AoquZAltAvY7jhR",
      "include_colab_link": true
    },
    "kernelspec": {
      "name": "python3",
      "display_name": "Python 3"
    },
    "language_info": {
      "name": "python"
    }
  },
  "cells": [
    {
      "cell_type": "markdown",
      "metadata": {
        "id": "view-in-github",
        "colab_type": "text"
      },
      "source": [
        "<a href=\"https://colab.research.google.com/github/NICOLAS491409/PROGCOM-A/blob/main/Trabajo_Correci%C3%B3n_GQ3.ipynb\" target=\"_parent\"><img src=\"https://colab.research.google.com/assets/colab-badge.svg\" alt=\"Open In Colab\"/></a>"
      ]
    },
    {
      "cell_type": "code",
      "execution_count": 4,
      "metadata": {
        "colab": {
          "base_uri": "https://localhost:8080/"
        },
        "id": "Obl907pY-JS5",
        "outputId": "3e4ac7cf-df36-4ee9-82f1-4c23ed0333b0"
      },
      "outputs": [
        {
          "output_type": "stream",
          "name": "stdout",
          "text": [
            "El precio teórico de la opción de compra (call) es: $4.58\n",
            "El precio teórico de la opción de venta (put) es: $6.99\n"
          ]
        }
      ],
      "source": [
        "import numpy as np\n",
        "from scipy.stats import norm\n",
        "def blackscholes(S, K, T, r, sigma, optiontype='call'):\n",
        "    \"\"\"\n",
        "    Calcula el precio de una opción de compra o venta utilizando el modelo de Black-Scholes.\n",
        "    S: Precio actual de la acción\n",
        "    K: Precio de ejercicio\n",
        "    T: Tiempo hasta el vencimiento (en años)\n",
        "    r: Tasa de interés sin riesgo (anual)\n",
        "    sigma: Volatilidad del activo subyacente (anual)\n",
        "    optiontype: 'call' para opción de compra, 'put' para opción de venta\n",
        "    \"\"\"\n",
        "    d1 = (np.log(S / K) + (r + 0.5 * sigma**2) * T) / (sigma * np.sqrt(T))\n",
        "    d2 = d1 - sigma * np.sqrt(T)\n",
        "\n",
        "    if optiontype == 'call':\n",
        "        price = S * norm.cdf(d1) - K * np.exp(-r * T) * norm.cdf(d2)\n",
        "    elif optiontype == 'put':\n",
        "        price = K * np.exp(-r * T) * norm.cdf(-d2) - S * norm.cdf(-d1)\n",
        "    else:\n",
        "        raise ValueError(\"optiontype debe ser 'call' o 'put'\")\n",
        "\n",
        "    return price\n",
        "# Ejemplo de uso\n",
        "precioaccion = 100\n",
        "precioejercicio = 105\n",
        "tiempoavencimiento = 0.5  # 6 meses\n",
        "tasainteres = 0.05  # 5%\n",
        "volatilidad = 0.20  # 20%\n",
        "preciocall = blackscholes(precioaccion, precioejercicio, tiempoavencimiento, tasainteres, volatilidad, optiontype='call')\n",
        "precioput = blackscholes(precioaccion, precioejercicio, tiempoavencimiento, tasainteres, volatilidad, optiontype='put')\n",
        "print(f\"El precio teórico de la opción de compra (call) es: ${preciocall:.2f}\")\n",
        "print(f\"El precio teórico de la opción de venta (put) es: ${precioput:.2f}\")"
      ]
    }
  ]
}