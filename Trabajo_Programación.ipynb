{
  "nbformat": 4,
  "nbformat_minor": 0,
  "metadata": {
    "colab": {
      "provenance": [],
      "authorship_tag": "ABX9TyOiOYiJ9ipPvnW55kGrb2Sb",
      "include_colab_link": true
    },
    "kernelspec": {
      "name": "python3",
      "display_name": "Python 3"
    },
    "language_info": {
      "name": "python"
    }
  },
  "cells": [
    {
      "cell_type": "markdown",
      "metadata": {
        "id": "view-in-github",
        "colab_type": "text"
      },
      "source": [
        "<a href=\"https://colab.research.google.com/github/NICOLAS491409/PROGCOM-A/blob/main/Trabajo_Programaci%C3%B3n.ipynb\" target=\"_parent\"><img src=\"https://colab.research.google.com/assets/colab-badge.svg\" alt=\"Open In Colab\"/></a>"
      ]
    },
    {
      "cell_type": "markdown",
      "source": [
        "PUNTO NUMERO 1"
      ],
      "metadata": {
        "id": "ruyZkbUQkiZe"
      }
    },
    {
      "cell_type": "code",
      "execution_count": 18,
      "metadata": {
        "colab": {
          "base_uri": "https://localhost:8080/"
        },
        "id": "dbAqKe4xkYQS",
        "outputId": "b255abb9-28ef-4e7a-daad-b1160e6b9c57"
      },
      "outputs": [
        {
          "output_type": "execute_result",
          "data": {
            "text/plain": [
              "49"
            ]
          },
          "metadata": {},
          "execution_count": 18
        }
      ],
      "source": [
        "cuadrado = lambda x: x*x\n",
        "cuadrado(7)"
      ]
    },
    {
      "cell_type": "code",
      "source": [
        "def cuadrado(x):\n",
        "    return x*x\n",
        "\n",
        "cuadrado(9)"
      ],
      "metadata": {
        "colab": {
          "base_uri": "https://localhost:8080/"
        },
        "id": "H5wB4J9QkxVt",
        "outputId": "06119465-c131-427a-b7d1-797c925f0aa0"
      },
      "execution_count": 19,
      "outputs": [
        {
          "output_type": "execute_result",
          "data": {
            "text/plain": [
              "81"
            ]
          },
          "metadata": {},
          "execution_count": 19
        }
      ]
    },
    {
      "cell_type": "markdown",
      "source": [
        "PUNTO NUMERO 2"
      ],
      "metadata": {
        "id": "L6AD4Vy7k4PF"
      }
    },
    {
      "cell_type": "code",
      "source": [
        "import random\n",
        "saludos = [\n",
        "\"¡Hola {0}! ¿Cómo estás?\",\n",
        "\"¡Qué tal, {0}! Un gusto saludarte.\",\n",
        "\"¡Hey {0}! ¿Qué cuentas?\",\n",
        "\"Saludos {0}, que tengas un buen día.\",\n",
        "\"¡Buenos días {0}!\",\n",
        "\"¡Buenas tardes {0}!\",\n",
        "\"¡Hola {0}! Bienvenido.\",\n",
        "\"¡Encantado de verte, {0}!\",\n",
        "\"¡Hola {0}! Espero que estés bien.\",\n",
        "\"¿Qué onda {0}?\",\n",
        "\"¡Hola {0}! ¿Listo para aprender?\",\n",
        "\"¡Ey {0}! ¿Cómo va todo?\",\n",
        "\"¡Hola {0}! Un abrazo virtual.\",\n",
        "\"¡Buenas {0}! Que vaya muy bien.\",\n",
        "\"¡Hola {0}! Que tengas energía hoy.\",\n",
        "\"¡Hola {0}! ¿Qué planes?\",\n",
        "\"¡Bienvenido {0}!\",\n",
        "\"¡Hola {0}! Mucha suerte hoy.\",\n",
        "\"¡Hola {0}! Mantén la actitud.\",\n",
        "\"¡Hola {0}! Disfruta tu día.\"\n",
        "]\n",
        "\n",
        "saludo = lambda nombre: random.choice(saludos).format(nombre)\n",
        "\n",
        "saludo(\"Tello\")"
      ],
      "metadata": {
        "colab": {
          "base_uri": "https://localhost:8080/",
          "height": 35
        },
        "id": "nRrLiOFlk6Cd",
        "outputId": "6246d7fa-f874-4a0d-9794-8288a1e08f0f"
      },
      "execution_count": 5,
      "outputs": [
        {
          "output_type": "execute_result",
          "data": {
            "text/plain": [
              "'¡Ey Tello! ¿Cómo va todo?'"
            ],
            "application/vnd.google.colaboratory.intrinsic+json": {
              "type": "string"
            }
          },
          "metadata": {},
          "execution_count": 5
        }
      ]
    },
    {
      "cell_type": "code",
      "source": [
        "def saludo(nombre):\n",
        "    return random.choice(saludos).format(nombre)\n",
        "saludo(\"jaime\")"
      ],
      "metadata": {
        "colab": {
          "base_uri": "https://localhost:8080/",
          "height": 35
        },
        "id": "QCBpVNS3lOAc",
        "outputId": "d89e32bc-00c5-4820-d9af-031f1c35b00b"
      },
      "execution_count": 17,
      "outputs": [
        {
          "output_type": "execute_result",
          "data": {
            "text/plain": [
              "'¡Encantado de verte, jaime!'"
            ],
            "application/vnd.google.colaboratory.intrinsic+json": {
              "type": "string"
            }
          },
          "metadata": {},
          "execution_count": 17
        }
      ]
    },
    {
      "cell_type": "markdown",
      "source": [
        "PUNTO NUMERO 3"
      ],
      "metadata": {
        "id": "gfSFa6AWliUV"
      }
    },
    {
      "cell_type": "code",
      "source": [
        "operaciones = lambda a,b: (a+b, a-b, a*b, a/b if b!=0 else None)\n",
        "operaciones(12,4)"
      ],
      "metadata": {
        "colab": {
          "base_uri": "https://localhost:8080/"
        },
        "id": "kRhjYHHGlmUE",
        "outputId": "9f3dcf35-66b0-440f-9706-ad3faa080cee"
      },
      "execution_count": 14,
      "outputs": [
        {
          "output_type": "execute_result",
          "data": {
            "text/plain": [
              "(16, 8, 48, 3.0)"
            ]
          },
          "metadata": {},
          "execution_count": 14
        }
      ]
    },
    {
      "cell_type": "code",
      "source": [
        "def operaciones(a, b):\n",
        "    if b != 0:\n",
        "        return (a + b, a - b, a * b, a / b)\n",
        "    else:\n",
        "        return (a + b, a - b, a * b, \"No se puede dividir\")\n",
        "\n",
        "operaciones(9, 0)"
      ],
      "metadata": {
        "colab": {
          "base_uri": "https://localhost:8080/"
        },
        "id": "DJvoja6yl7z0",
        "outputId": "f14959c5-b756-465d-961c-880d1972503c"
      },
      "execution_count": 12,
      "outputs": [
        {
          "output_type": "execute_result",
          "data": {
            "text/plain": [
              "(9, 9, 0, 'No se puede dividir')"
            ]
          },
          "metadata": {},
          "execution_count": 12
        }
      ]
    },
    {
      "cell_type": "markdown",
      "source": [
        "PUNTO NUMERO 4"
      ],
      "metadata": {
        "id": "2HdI5rjAmJpN"
      }
    },
    {
      "cell_type": "code",
      "source": [
        "esmayor = lambda edad: \"Mayor de edad\" if edad >= 18 else \"Menor de edad\"\n",
        "esmayor(23)"
      ],
      "metadata": {
        "colab": {
          "base_uri": "https://localhost:8080/",
          "height": 35
        },
        "id": "wnAEB4ELmM20",
        "outputId": "e733a8c9-2f46-4270-dbf3-3044ed52902d"
      },
      "execution_count": 9,
      "outputs": [
        {
          "output_type": "execute_result",
          "data": {
            "text/plain": [
              "'Mayor de edad'"
            ],
            "application/vnd.google.colaboratory.intrinsic+json": {
              "type": "string"
            }
          },
          "metadata": {},
          "execution_count": 9
        }
      ]
    },
    {
      "cell_type": "code",
      "source": [
        "def esmayor(edad):\n",
        "    if edad >= 18:\n",
        "        return \"Mayor de edad\"\n",
        "    else:\n",
        "        return \"Menor de edad\"\n",
        "esmayor(14)"
      ],
      "metadata": {
        "colab": {
          "base_uri": "https://localhost:8080/",
          "height": 35
        },
        "id": "HHbkBuWAm7oD",
        "outputId": "a7f01941-e5d8-4c60-803c-7305eee48d1b"
      },
      "execution_count": 11,
      "outputs": [
        {
          "output_type": "execute_result",
          "data": {
            "text/plain": [
              "'Menor de edad'"
            ],
            "application/vnd.google.colaboratory.intrinsic+json": {
              "type": "string"
            }
          },
          "metadata": {},
          "execution_count": 11
        }
      ]
    },
    {
      "cell_type": "markdown",
      "source": [
        "PUNTO NUMERO 5"
      ],
      "metadata": {
        "id": "xlf2ISKkncKL"
      }
    },
    {
      "cell_type": "code",
      "source": [
        "#5\n",
        "#Reciba una palabra y determine si es un palíndromo (se lee igual al derecho y al revés)\n",
        "# Con lambda\n",
        "es_palindromo = lambda palabra: palabra.lower() == palabra.lower()[::-1]\n",
        "es_palindromo(\"Aidia\")"
      ],
      "metadata": {
        "colab": {
          "base_uri": "https://localhost:8080/"
        },
        "id": "KfThaGUKneY7",
        "outputId": "a1185db4-5a09-45ad-f8a2-b6b88afb1d24"
      },
      "execution_count": 21,
      "outputs": [
        {
          "output_type": "execute_result",
          "data": {
            "text/plain": [
              "True"
            ]
          },
          "metadata": {},
          "execution_count": 21
        }
      ]
    },
    {
      "cell_type": "code",
      "source": [
        "def es_palindromo(palabra):\n",
        "    palabra = palabra.lower()\n",
        "    if palabra == palabra[::-1]:\n",
        "        return True\n",
        "    else:\n",
        "        return False\n",
        "es_palindromo(\"Luna\")"
      ],
      "metadata": {
        "colab": {
          "base_uri": "https://localhost:8080/"
        },
        "id": "2T6Vn64Nnt1q",
        "outputId": "0ac4e584-e616-45ee-be1b-19b2f5a2d3fc"
      },
      "execution_count": 22,
      "outputs": [
        {
          "output_type": "execute_result",
          "data": {
            "text/plain": [
              "False"
            ]
          },
          "metadata": {},
          "execution_count": 22
        }
      ]
    },
    {
      "cell_type": "markdown",
      "source": [
        "PUNTO NUMERO 6"
      ],
      "metadata": {
        "id": "uuqL8IaYn0ca"
      }
    },
    {
      "cell_type": "code",
      "source": [
        "contar_vocales = lambda texto: sum(1 for letra in texto.lower() if letra in \"aeiou\")\n",
        "contar_vocales(\"Buenos Días\")"
      ],
      "metadata": {
        "colab": {
          "base_uri": "https://localhost:8080/"
        },
        "id": "gz6pQra-n2GK",
        "outputId": "dbd855a6-7b2d-4a01-f543-6af98519897f"
      },
      "execution_count": 31,
      "outputs": [
        {
          "output_type": "execute_result",
          "data": {
            "text/plain": [
              "4"
            ]
          },
          "metadata": {},
          "execution_count": 31
        }
      ]
    },
    {
      "cell_type": "code",
      "source": [
        "def contar_vocales(texto):\n",
        "    contador = 0\n",
        "    for letra in texto.lower():\n",
        "        if letra in \"aeiou\":\n",
        "            contador += 1\n",
        "    return contador\n",
        "contar_vocales(\"Subtítulo\")"
      ],
      "metadata": {
        "colab": {
          "base_uri": "https://localhost:8080/"
        },
        "id": "FnoH8NH7oFAy",
        "outputId": "0ffbd3ae-acce-4d3f-c9a9-8fe580ac45af"
      },
      "execution_count": 33,
      "outputs": [
        {
          "output_type": "execute_result",
          "data": {
            "text/plain": [
              "3"
            ]
          },
          "metadata": {},
          "execution_count": 33
        }
      ]
    },
    {
      "cell_type": "markdown",
      "source": [
        "PUNTO NUMERO 7"
      ],
      "metadata": {
        "id": "T4RLr--JoOTq"
      }
    },
    {
      "cell_type": "code",
      "source": [
        "suma_lista = lambda lista: sum(lista)\n",
        "suma_lista([4, 5, 6])"
      ],
      "metadata": {
        "colab": {
          "base_uri": "https://localhost:8080/"
        },
        "id": "xAhYU29uoQPq",
        "outputId": "2e989194-7595-432f-b9dc-6aa233f41c2c"
      },
      "execution_count": 35,
      "outputs": [
        {
          "output_type": "execute_result",
          "data": {
            "text/plain": [
              "15"
            ]
          },
          "metadata": {},
          "execution_count": 35
        }
      ]
    },
    {
      "cell_type": "code",
      "source": [
        "def suma_lista(lista):\n",
        "    total = 0\n",
        "    for numero in lista:\n",
        "        total += numero\n",
        "    return total\n",
        "suma_lista([7, 9, 11])"
      ],
      "metadata": {
        "colab": {
          "base_uri": "https://localhost:8080/"
        },
        "id": "DPjpWwWMoVoS",
        "outputId": "b9f3b21d-1105-4442-cacc-fc2d7362c4e3"
      },
      "execution_count": 36,
      "outputs": [
        {
          "output_type": "execute_result",
          "data": {
            "text/plain": [
              "27"
            ]
          },
          "metadata": {},
          "execution_count": 36
        }
      ]
    },
    {
      "cell_type": "markdown",
      "source": [
        "PUNTO NUMERO 8"
      ],
      "metadata": {
        "id": "_m_dG9zgocy5"
      }
    },
    {
      "cell_type": "code",
      "source": [
        "mayor_menor = lambda lista: (max(lista), min(lista))\n",
        "mayor_menor([5, 8, 2, 7])"
      ],
      "metadata": {
        "colab": {
          "base_uri": "https://localhost:8080/"
        },
        "id": "aNn-NIznoeza",
        "outputId": "fd8114bc-659b-4bde-bb40-09fe202cb510"
      },
      "execution_count": 39,
      "outputs": [
        {
          "output_type": "execute_result",
          "data": {
            "text/plain": [
              "(8, 2)"
            ]
          },
          "metadata": {},
          "execution_count": 39
        }
      ]
    },
    {
      "cell_type": "code",
      "source": [
        "def mayor_menor(lista):\n",
        "    mayor = lista[0]\n",
        "    menor = lista[0]\n",
        "    for numero in lista:\n",
        "        if numero > mayor:\n",
        "            mayor = numero\n",
        "        if numero < menor:\n",
        "            menor = numero\n",
        "    return (mayor, menor)\n",
        "mayor_menor([18, 11, 9, 10])"
      ],
      "metadata": {
        "colab": {
          "base_uri": "https://localhost:8080/"
        },
        "id": "efhXnC3QolpJ",
        "outputId": "74873b44-0b34-4e7b-85a4-eec32462957a"
      },
      "execution_count": 40,
      "outputs": [
        {
          "output_type": "execute_result",
          "data": {
            "text/plain": [
              "(18, 9)"
            ]
          },
          "metadata": {},
          "execution_count": 40
        }
      ]
    },
    {
      "cell_type": "markdown",
      "source": [
        "PUNTO NUMERO 9"
      ],
      "metadata": {
        "id": "hGfT7DXaosH5"
      }
    },
    {
      "cell_type": "code",
      "source": [
        "reverso = lambda lista: lista[::-1]\n",
        "reverso([9, 8, 7])"
      ],
      "metadata": {
        "colab": {
          "base_uri": "https://localhost:8080/"
        },
        "id": "a-fMJwulouJZ",
        "outputId": "479b57d9-3919-4c1e-91cb-baefdaed1c44"
      },
      "execution_count": 42,
      "outputs": [
        {
          "output_type": "execute_result",
          "data": {
            "text/plain": [
              "[7, 8, 9]"
            ]
          },
          "metadata": {},
          "execution_count": 42
        }
      ]
    },
    {
      "cell_type": "code",
      "source": [
        "def reverso(lista):\n",
        "    nueva = []\n",
        "    for i in range(len(lista)-1, -1, -1):\n",
        "        nueva.append(lista[i])\n",
        "    return nueva\n",
        "reverso([\"19\", \"20\", \"21\"])"
      ],
      "metadata": {
        "colab": {
          "base_uri": "https://localhost:8080/"
        },
        "id": "ALeVE1ceo0B5",
        "outputId": "820b6ef6-e129-4324-f254-e8defeb94263"
      },
      "execution_count": 44,
      "outputs": [
        {
          "output_type": "execute_result",
          "data": {
            "text/plain": [
              "['21', '20', '19']"
            ]
          },
          "metadata": {},
          "execution_count": 44
        }
      ]
    },
    {
      "cell_type": "markdown",
      "source": [
        "PUNTO NUMERO 10"
      ],
      "metadata": {
        "id": "4bAHIuq1o7Up"
      }
    },
    {
      "cell_type": "code",
      "source": [
        "nombres_vocal = lambda lista: sum(1 for n in lista if n[0].lower() in \"aeiou\")\n",
        "nombres_vocal([\"Juan\", \"Valentina\", \"Lucia\", \"Pedro\"])"
      ],
      "metadata": {
        "colab": {
          "base_uri": "https://localhost:8080/"
        },
        "id": "-AVZjRN0o__z",
        "outputId": "875f5e14-3bcd-4029-a254-2bb7c645345a"
      },
      "execution_count": 47,
      "outputs": [
        {
          "output_type": "execute_result",
          "data": {
            "text/plain": [
              "0"
            ]
          },
          "metadata": {},
          "execution_count": 47
        }
      ]
    },
    {
      "cell_type": "code",
      "source": [
        "def nombres_vocal(lista):\n",
        "    contador = 0\n",
        "    for nombre in lista:\n",
        "        if nombre[0].lower() in \"aeiou\":\n",
        "            contador += 1\n",
        "    return contador\n",
        "nombres_vocal([\"Eliazar\", \"Leo\", \"Potro\"])"
      ],
      "metadata": {
        "colab": {
          "base_uri": "https://localhost:8080/"
        },
        "id": "3VIw_WMGpMEx",
        "outputId": "ed85599b-aa46-4616-e6a6-9964b6865dc3"
      },
      "execution_count": 49,
      "outputs": [
        {
          "output_type": "execute_result",
          "data": {
            "text/plain": [
              "1"
            ]
          },
          "metadata": {},
          "execution_count": 49
        }
      ]
    },
    {
      "cell_type": "markdown",
      "source": [
        "PUNTO NUMERO 11"
      ],
      "metadata": {
        "id": "t2mT0uc1pUrZ"
      }
    },
    {
      "cell_type": "code",
      "source": [
        "sin_repetidos = lambda lista: list(dict.fromkeys(lista))\n",
        "sin_repetidos([1,5,5,7,1])"
      ],
      "metadata": {
        "colab": {
          "base_uri": "https://localhost:8080/"
        },
        "id": "x3IVn3ybpWwJ",
        "outputId": "74843b9d-00cf-4de4-875d-b83d9baa89e7"
      },
      "execution_count": 51,
      "outputs": [
        {
          "output_type": "execute_result",
          "data": {
            "text/plain": [
              "[1, 5, 7]"
            ]
          },
          "metadata": {},
          "execution_count": 51
        }
      ]
    },
    {
      "cell_type": "code",
      "source": [
        "def sin_repetidos(lista):\n",
        "    nueva = []\n",
        "    for elemento in lista:\n",
        "        if elemento not in nueva:\n",
        "            nueva.append(elemento)\n",
        "    return nueva\n",
        "sin_repetidos([\"8\",\"8\",\"5\",\"9\"])"
      ],
      "metadata": {
        "colab": {
          "base_uri": "https://localhost:8080/"
        },
        "id": "52njZNm3pdAZ",
        "outputId": "6c050f03-f035-420f-dd1b-7146d780fc99"
      },
      "execution_count": 52,
      "outputs": [
        {
          "output_type": "execute_result",
          "data": {
            "text/plain": [
              "['8', '5', '9']"
            ]
          },
          "metadata": {},
          "execution_count": 52
        }
      ]
    },
    {
      "cell_type": "markdown",
      "source": [
        "PUNTO NUMERO 12"
      ],
      "metadata": {
        "id": "TTN4KTslphtZ"
      }
    },
    {
      "cell_type": "code",
      "source": [
        "es_primo = lambda n: n>1 and all(n%i!=0 for i in range(2,int(n**0.5)+1))\n",
        "primos = lambda lista: [x for x in lista if es_primo(x)]\n",
        "primos([9,7,3,4,5,13,17])"
      ],
      "metadata": {
        "colab": {
          "base_uri": "https://localhost:8080/"
        },
        "id": "1TlTIZ84pkFp",
        "outputId": "3298d235-60a6-4e59-e717-c26df7c02db7"
      },
      "execution_count": 54,
      "outputs": [
        {
          "output_type": "execute_result",
          "data": {
            "text/plain": [
              "[7, 3, 5, 13, 17]"
            ]
          },
          "metadata": {},
          "execution_count": 54
        }
      ]
    },
    {
      "cell_type": "code",
      "source": [
        "def es_primo(n):\n",
        "    if n < 2:\n",
        "        return False\n",
        "    for i in range(2, n):\n",
        "        if n % i == 0:\n",
        "            return False\n",
        "    return True\n",
        "\n",
        "def primos(lista):\n",
        "    resultado = []\n",
        "    for num in lista:\n",
        "        if es_primo(num):\n",
        "            resultado.append(num)\n",
        "    return resultado\n",
        "primos([15,20,25,30,35])"
      ],
      "metadata": {
        "colab": {
          "base_uri": "https://localhost:8080/"
        },
        "id": "9u4OKjLWprQh",
        "outputId": "8a61911d-0280-45c8-d8d4-b3cc3387853b"
      },
      "execution_count": 55,
      "outputs": [
        {
          "output_type": "execute_result",
          "data": {
            "text/plain": [
              "[]"
            ]
          },
          "metadata": {},
          "execution_count": 55
        }
      ]
    },
    {
      "cell_type": "markdown",
      "source": [
        "PUNTO NUMERO 13"
      ],
      "metadata": {
        "id": "HNt-h7efpz0Z"
      }
    },
    {
      "cell_type": "code",
      "source": [
        "mensaje = lambda p: f\"El nombre es {p['nombre']} y tiene {p['edad']} años\"\n",
        "mensaje({\"nombre\":\"Tello\",\"edad\":16})"
      ],
      "metadata": {
        "colab": {
          "base_uri": "https://localhost:8080/",
          "height": 35
        },
        "id": "1HGWSaZnp2cx",
        "outputId": "0a3d88e2-9e88-4097-ee0c-65401c6dae75"
      },
      "execution_count": 56,
      "outputs": [
        {
          "output_type": "execute_result",
          "data": {
            "text/plain": [
              "'El nombre es Tello y tiene 16 años'"
            ],
            "application/vnd.google.colaboratory.intrinsic+json": {
              "type": "string"
            }
          },
          "metadata": {},
          "execution_count": 56
        }
      ]
    },
    {
      "cell_type": "code",
      "source": [
        "def mensaje(p):\n",
        "    return f\"El nombre es {p['nombre']} y tiene {p['edad']} años\"\n",
        "mensaje({\"nombre\":\"Juanes\",\"edad\":24})"
      ],
      "metadata": {
        "colab": {
          "base_uri": "https://localhost:8080/",
          "height": 35
        },
        "id": "OpKOCLj_qCyI",
        "outputId": "13525229-d5f9-4eb7-f03b-af0d7eb598b5"
      },
      "execution_count": 57,
      "outputs": [
        {
          "output_type": "execute_result",
          "data": {
            "text/plain": [
              "'El nombre es Juanes y tiene 24 años'"
            ],
            "application/vnd.google.colaboratory.intrinsic+json": {
              "type": "string"
            }
          },
          "metadata": {},
          "execution_count": 57
        }
      ]
    },
    {
      "cell_type": "markdown",
      "source": [
        "PUNTO NUMERO 14"
      ],
      "metadata": {
        "id": "_ZkuQtN-qG4A"
      }
    },
    {
      "cell_type": "code",
      "source": [
        "total = lambda productos: sum(productos.values())\n",
        "total({\"Tomates\":5000,\"Aceite\":10000,\"Carne\":28000})"
      ],
      "metadata": {
        "colab": {
          "base_uri": "https://localhost:8080/"
        },
        "id": "VhzNI7izqI9Z",
        "outputId": "b6cd5e78-5752-4370-a555-99e6fd92f9e3"
      },
      "execution_count": 59,
      "outputs": [
        {
          "output_type": "execute_result",
          "data": {
            "text/plain": [
              "43000"
            ]
          },
          "metadata": {},
          "execution_count": 59
        }
      ]
    },
    {
      "cell_type": "code",
      "source": [
        "def total(productos):\n",
        "    suma = 0\n",
        "    for precio in productos.values():\n",
        "        suma += precio\n",
        "    return suma\n",
        "total({\"Limpido\":6000,\"Jabon en polvo\":12000,\"Desmanchador\":8200})"
      ],
      "metadata": {
        "colab": {
          "base_uri": "https://localhost:8080/"
        },
        "id": "9RAEP1RNqVCg",
        "outputId": "63a1fdd0-a108-45b7-d1e4-f0a8fe9ef42e"
      },
      "execution_count": 60,
      "outputs": [
        {
          "output_type": "execute_result",
          "data": {
            "text/plain": [
              "26200"
            ]
          },
          "metadata": {},
          "execution_count": 60
        }
      ]
    },
    {
      "cell_type": "markdown",
      "source": [
        "PUNTO NUMERO 15"
      ],
      "metadata": {
        "id": "X1DCzVbUqhaY"
      }
    },
    {
      "cell_type": "code",
      "source": [
        "promedio = lambda notas: sum(notas.values())/len(notas)\n",
        "promedio({\"Cuadrado\":3.0,\"Luisa\":3.7,\"Caroline\":4.0})"
      ],
      "metadata": {
        "colab": {
          "base_uri": "https://localhost:8080/"
        },
        "id": "Drs4CqLaqkGw",
        "outputId": "2e396b40-c458-44f0-fd38-858b9f369a86"
      },
      "execution_count": 61,
      "outputs": [
        {
          "output_type": "execute_result",
          "data": {
            "text/plain": [
              "3.5666666666666664"
            ]
          },
          "metadata": {},
          "execution_count": 61
        }
      ]
    },
    {
      "cell_type": "code",
      "source": [
        "def promedio(notas):\n",
        "    suma = 0\n",
        "    for n in notas.values():\n",
        "        suma += n\n",
        "    return suma / len(notas)\n",
        "promedio({\"Pavi\":3.5,\"Sara\":1.5,\"Camilo\":5.0})"
      ],
      "metadata": {
        "colab": {
          "base_uri": "https://localhost:8080/"
        },
        "id": "zza6W60qqsyY",
        "outputId": "e539dd3f-626a-47ba-e938-672980f4f6d4"
      },
      "execution_count": 62,
      "outputs": [
        {
          "output_type": "execute_result",
          "data": {
            "text/plain": [
              "3.3333333333333335"
            ]
          },
          "metadata": {},
          "execution_count": 62
        }
      ]
    },
    {
      "cell_type": "markdown",
      "source": [
        "PUNTO NUMERO 16"
      ],
      "metadata": {
        "id": "rjXnbmxFq3B_"
      }
    },
    {
      "cell_type": "code",
      "source": [
        "buscar = lambda notas,nombre: notas.get(nombre,\"no encontrado\")\n",
        "buscar({\"Andres\":4.0,\"Luciano\":3.5},\"Luciano\")"
      ],
      "metadata": {
        "colab": {
          "base_uri": "https://localhost:8080/"
        },
        "id": "wPj7m1F1q5v6",
        "outputId": "a2d2dc7c-4650-456e-bd75-58e1314a351d"
      },
      "execution_count": 65,
      "outputs": [
        {
          "output_type": "execute_result",
          "data": {
            "text/plain": [
              "3.5"
            ]
          },
          "metadata": {},
          "execution_count": 65
        }
      ]
    },
    {
      "cell_type": "code",
      "source": [
        "def buscar(notas,nombre):\n",
        "    if nombre in notas:\n",
        "        return notas[nombre]\n",
        "    else:\n",
        "        return \"no encontrado\"\n",
        "buscar({\"Juanda\":5.0,\"Rata\":2.5},\"Juanda\")"
      ],
      "metadata": {
        "colab": {
          "base_uri": "https://localhost:8080/"
        },
        "id": "1ugDKJ1lrEpH",
        "outputId": "cbd6f5dc-c00a-4345-91cc-b9ec7eb2d38c"
      },
      "execution_count": 66,
      "outputs": [
        {
          "output_type": "execute_result",
          "data": {
            "text/plain": [
              "5.0"
            ]
          },
          "metadata": {},
          "execution_count": 66
        }
      ]
    },
    {
      "cell_type": "markdown",
      "source": [
        "PUNTO NUMERO 17"
      ],
      "metadata": {
        "id": "2pRkJMb-rOOn"
      }
    },
    {
      "cell_type": "code",
      "source": [
        "mejor = lambda notas: max(notas, key=notas.get)\n",
        "mejor({\"AnDREA\":3.0,\"LuiAs\":3.7,\"karol\":4.5})"
      ],
      "metadata": {
        "colab": {
          "base_uri": "https://localhost:8080/",
          "height": 35
        },
        "id": "fmuyk76srP5f",
        "outputId": "e259e722-1ace-4856-cbba-e8a50cc2be8f"
      },
      "execution_count": 68,
      "outputs": [
        {
          "output_type": "execute_result",
          "data": {
            "text/plain": [
              "'karol'"
            ],
            "application/vnd.google.colaboratory.intrinsic+json": {
              "type": "string"
            }
          },
          "metadata": {},
          "execution_count": 68
        }
      ]
    },
    {
      "cell_type": "code",
      "source": [
        "def mejor(notas):\n",
        "    mayor = None\n",
        "    nota_mayor = -1\n",
        "    for nombre, nota in notas.items():\n",
        "        if nota > nota_mayor:\n",
        "            nota_mayor = nota\n",
        "            mayor = nombre\n",
        "    return mayor\n",
        "mejor({\"Pedrihño\":4.9,\"julian\":3.8,\"fredy\":2.2})"
      ],
      "metadata": {
        "colab": {
          "base_uri": "https://localhost:8080/",
          "height": 35
        },
        "id": "Wwhxcx9WrYdH",
        "outputId": "4820aed7-3f2a-4afd-fd42-86a5b636dbe8"
      },
      "execution_count": 69,
      "outputs": [
        {
          "output_type": "execute_result",
          "data": {
            "text/plain": [
              "'Pedrihño'"
            ],
            "application/vnd.google.colaboratory.intrinsic+json": {
              "type": "string"
            }
          },
          "metadata": {},
          "execution_count": 69
        }
      ]
    },
    {
      "cell_type": "markdown",
      "source": [
        "PUNTO NUMERO 18"
      ],
      "metadata": {
        "id": "HkXThqURrjZX"
      }
    },
    {
      "cell_type": "code",
      "source": [
        "filtrar = lambda productos,limite: {k:v for k,v in productos.items() if v>limite}\n",
        "filtrar({\"lecherita\":3000,\"Pai\":4000,\"Limones\":15000},4000)"
      ],
      "metadata": {
        "colab": {
          "base_uri": "https://localhost:8080/"
        },
        "id": "uctpJsXRrlWv",
        "outputId": "0fef4d0b-5017-4999-955d-92109d178583"
      },
      "execution_count": 72,
      "outputs": [
        {
          "output_type": "execute_result",
          "data": {
            "text/plain": [
              "{'Limones': 15000}"
            ]
          },
          "metadata": {},
          "execution_count": 72
        }
      ]
    },
    {
      "cell_type": "code",
      "source": [
        "def filtrar(productos, limite):\n",
        "    resultado = {}\n",
        "    for nombre, precio in productos.items():\n",
        "        if precio > limite:\n",
        "            resultado[nombre] = precio\n",
        "    return resultado\n",
        "filtrar({\"Croasan\":9000,\"Huevos\":6000,\"cebolla\":3500},2000)"
      ],
      "metadata": {
        "colab": {
          "base_uri": "https://localhost:8080/"
        },
        "id": "lvWN5vDNr-H_",
        "outputId": "b567acc5-4e04-4069-b234-188c87bf6254"
      },
      "execution_count": 73,
      "outputs": [
        {
          "output_type": "execute_result",
          "data": {
            "text/plain": [
              "{'Croasan': 9000, 'Huevos': 6000, 'cebolla': 3500}"
            ]
          },
          "metadata": {},
          "execution_count": 73
        }
      ]
    },
    {
      "cell_type": "markdown",
      "source": [
        "PUNTO NUMERO 19"
      ],
      "metadata": {
        "id": "LL2zuZ-XsG-X"
      }
    },
    {
      "cell_type": "code",
      "source": [
        "horas = lambda empleados: {k:sum(v) for k,v in empleados.items()}\n",
        "horas({\"Ana\":[7,8,9],\"Luis\":[9,9,3]})"
      ],
      "metadata": {
        "colab": {
          "base_uri": "https://localhost:8080/"
        },
        "id": "19gHXDbUsJc-",
        "outputId": "94114e54-ea84-44e9-ed85-3e2a8f49a5d6"
      },
      "execution_count": 76,
      "outputs": [
        {
          "output_type": "execute_result",
          "data": {
            "text/plain": [
              "{'Ana': 24, 'Luis': 21}"
            ]
          },
          "metadata": {},
          "execution_count": 76
        }
      ]
    },
    {
      "cell_type": "code",
      "source": [
        "def horas(empleados):\n",
        "    resultado = {}\n",
        "    for nombre, lista in empleados.items():\n",
        "        total = 0\n",
        "        for h in lista:\n",
        "            total += h\n",
        "        resultado[nombre] = total\n",
        "    return resultado\n",
        "horas({\"Pedro\":[8,6,3],\"Sofia\":[8,5,6]})"
      ],
      "metadata": {
        "colab": {
          "base_uri": "https://localhost:8080/"
        },
        "id": "Mb73io0wsUTW",
        "outputId": "85ef6a3e-146d-49ec-bf5c-158fbddf90d2"
      },
      "execution_count": 77,
      "outputs": [
        {
          "output_type": "execute_result",
          "data": {
            "text/plain": [
              "{'Pedro': 17, 'Sofia': 19}"
            ]
          },
          "metadata": {},
          "execution_count": 77
        }
      ]
    },
    {
      "cell_type": "markdown",
      "source": [
        "PUNTO NUMERO 20"
      ],
      "metadata": {
        "id": "mJgdT9dHsZaW"
      }
    },
    {
      "cell_type": "code",
      "source": [
        "promedio_mayores = lambda est: sum([v['nota'] for v in est.values() if v['edad']>=18]) / len([v for v in est.values() if v['edad']>=18])\n",
        "promedio_mayores({\"juan\":{\"nota\":3.5,\"edad\":17},\"Luisa\":{\"nota\":4.8,\"edad\":16},\"Caro\":{\"nota\":4.0,\"edad\":20}})"
      ],
      "metadata": {
        "colab": {
          "base_uri": "https://localhost:8080/"
        },
        "id": "6lYsU0R5sbv-",
        "outputId": "490a06c1-8aa1-4e41-e6fc-7c069f67feb0"
      },
      "execution_count": 81,
      "outputs": [
        {
          "output_type": "execute_result",
          "data": {
            "text/plain": [
              "4.0"
            ]
          },
          "metadata": {},
          "execution_count": 81
        }
      ]
    },
    {
      "cell_type": "code",
      "source": [
        "def promedio_mayores(estudiantes):\n",
        "    notas = []\n",
        "    for datos in estudiantes.values():\n",
        "        if datos[\"edad\"] >= 18:\n",
        "            notas.append(datos[\"nota\"])\n",
        "    if len(notas) == 0:\n",
        "        return 0\n",
        "    return sum(notas) / len(notas)\n",
        "promedio_mayores({\"Juanda\":{\"nota\":2.5,\"edad\":18},\"Sofhia\":{\"nota\":3.2,\"edad\":16},\"Camille\":{\"nota\":3.8,\"edad\":20}})"
      ],
      "metadata": {
        "colab": {
          "base_uri": "https://localhost:8080/"
        },
        "id": "6rYmf0EsstAo",
        "outputId": "a90cd64e-7feb-4ba5-dbd8-e6a549502aa8"
      },
      "execution_count": 82,
      "outputs": [
        {
          "output_type": "execute_result",
          "data": {
            "text/plain": [
              "3.15"
            ]
          },
          "metadata": {},
          "execution_count": 82
        }
      ]
    }
  ]
}