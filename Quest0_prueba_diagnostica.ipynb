{
  "nbformat": 4,
  "nbformat_minor": 0,
  "metadata": {
    "colab": {
      "provenance": []
    },
    "kernelspec": {
      "name": "python3",
      "display_name": "Python 3"
    },
    "language_info": {
      "name": "python"
    }
  },
  "cells": [
    {
      "cell_type": "markdown",
      "source": [
        "#estructuras de selección\n",
        "Prueba Diagnostica\n",
        "Aqui se desarrollaran ejercicios sobre estructuras de selección\n",
        "\n",
        "\n",
        "\n",
        "```\n",
        "si (condición) entonces:\n",
        " pasan cosas divertidas ㊗\n",
        "si no:\n",
        "llorelo 😰\n",
        "```\n",
        "por algoritmia\n",
        "1.solicito la variable y la almaceno en a\n",
        "2.\n"
      ],
      "metadata": {
        "id": "Cd_ZfhONKi-u"
      }
    },
    {
      "cell_type": "code",
      "execution_count": null,
      "metadata": {
        "id": "LbBry--RJwQn"
      },
      "outputs": [],
      "source": []
    }
  ]
}