{
  "nbformat": 4,
  "nbformat_minor": 0,
  "metadata": {
    "colab": {
      "provenance": [],
      "authorship_tag": "ABX9TyOsBPPuTLIZ2lz0aYZkZCZI",
      "include_colab_link": true
    },
    "kernelspec": {
      "name": "python3",
      "display_name": "Python 3"
    },
    "language_info": {
      "name": "python"
    }
  },
  "cells": [
    {
      "cell_type": "markdown",
      "metadata": {
        "id": "view-in-github",
        "colab_type": "text"
      },
      "source": [
        "<a href=\"https://colab.research.google.com/github/NICOLAS491409/PROGCOM-A/blob/main/TRABAJO_QZ.ipynb\" target=\"_parent\"><img src=\"https://colab.research.google.com/assets/colab-badge.svg\" alt=\"Open In Colab\"/></a>"
      ]
    },
    {
      "cell_type": "markdown",
      "source": [
        "##OTRO LENGUAJE DE PROGRAMACIÓN EL CUAL ES RUBY"
      ],
      "metadata": {
        "id": "40XYPZqt34zS"
      }
    },
    {
      "cell_type": "markdown",
      "source": [
        "#¿Que es?\n",
        "Ruby es un lenguaje de programación:\n",
        "1.Muy legible y fácil de escribir.\n",
        "2.Orientado a objetos (todo es un objeto).\n",
        "3.Muy usado en desarrollo web, especialmente con el framework Ruby on Rails.\n",
        "4.Diseñado para hacer que el programador disfrute programar (su creador, Yukihiro \"Matz\" Matsumoto, quería un lenguaje \"divertido\")."
      ],
      "metadata": {
        "id": "WNR9UpyJ39Y6"
      }
    },
    {
      "cell_type": "markdown",
      "source": [
        "##El objetivo de la creación del programa es:\n",
        "Crear un programa en Ruby que:\n",
        "1.Reciba esta información:\n",
        "Nombre         | Puntos\n",
        "-------------------------\n",
        "Alicia         | 850\n",
        "Bruno          | 920\n",
        "Carlos         | 780\n",
        "2.Ordene a los jugadores por puntaje de mayor a menor.\n",
        "3.Muestre el ranking final."
      ],
      "metadata": {
        "id": "jsTfiTAK4k-w"
      }
    },
    {
      "cell_type": "code",
      "source": [
        "# Información de jugadores\n",
        "jugadores = [\n",
        "  {\"nombre\": \"Alicia\", \"puntos\": 850},\n",
        "  {\"nombre\": \"Bruno\", \"puntos\": 920},\n",
        "  {\"nombre\": \"Carlos\", \"puntos\": 780}\n",
        "]\n",
        "# Ordenar por puntaje (descendente)\n",
        "# In Python, we use sorted() with a key and reverse=True\n",
        "ranking = sorted(jugadores, key=lambda j: j[\"puntos\"], reverse=True)\n",
        "# Mostrar ranking\n",
        "print(\"🏆 Ranking de Jugadores 🏆\")\n",
        "# In Python, we use enumerate for index\n",
        "for index, j in enumerate(ranking):\n",
        "  print(f\"{index + 1}. {j['nombre']} - {j['puntos']} puntos\")"
      ],
      "metadata": {
        "colab": {
          "base_uri": "https://localhost:8080/"
        },
        "id": "ZQwCanfi5MhQ",
        "outputId": "144db36c-7034-4b12-b091-d32dce13dc39"
      },
      "execution_count": 3,
      "outputs": [
        {
          "output_type": "stream",
          "name": "stdout",
          "text": [
            "🏆 Ranking de Jugadores 🏆\n",
            "1. Bruno - 920 puntos\n",
            "2. Alicia - 850 puntos\n",
            "3. Carlos - 780 puntos\n"
          ]
        }
      ]
    }
  ]
}