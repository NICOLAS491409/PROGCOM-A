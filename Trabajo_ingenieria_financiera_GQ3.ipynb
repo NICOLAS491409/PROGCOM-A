{
  "nbformat": 4,
  "nbformat_minor": 0,
  "metadata": {
    "colab": {
      "provenance": [],
      "authorship_tag": "ABX9TyPID+ep6DUjhT6vh9Kw6y1W",
      "include_colab_link": true
    },
    "kernelspec": {
      "name": "python3",
      "display_name": "Python 3"
    },
    "language_info": {
      "name": "python"
    }
  },
  "cells": [
    {
      "cell_type": "markdown",
      "metadata": {
        "id": "view-in-github",
        "colab_type": "text"
      },
      "source": [
        "<a href=\"https://colab.research.google.com/github/NICOLAS491409/PROGCOM-A/blob/main/Trabajo_ingenieria_financiera_GQ3.ipynb\" target=\"_parent\"><img src=\"https://colab.research.google.com/assets/colab-badge.svg\" alt=\"Open In Colab\"/></a>"
      ]
    },
    {
      "cell_type": "code",
      "execution_count": null,
      "metadata": {
        "id": "KYTmCUJVCrET"
      },
      "outputs": [],
      "source": [
        "def calcularInteresCompuesto(capitalInicial, tasaAnual, anios, frecuencia):\n",
        "    frecuenciaDict = {\n",
        "        \"anual\": 1,\n",
        "        \"semestral\": 2,\n",
        "        \"trimestral\": 4,\n",
        "        \"mensual\": 12\n",
        "    }\n",
        "        if frecuencia not in frecuenciaDict:\n",
        "        print(\"Frecuencia no valida. Usa: anual, semestral, trimestral o mensual.\")\n",
        "        return\n",
        "\n",
        "    n = frecuenciaDict[frecuencia]\n",
        "    tasaDecimal = tasaAnual / 100\n",
        "    montoFinal = capitalInicial * (1 + tasaDecimal / n) ** (n * anios)\n",
        "\n",
        "    print(\"\\n--- Resultado ---\")\n",
        "    print(f\"Capital inicial: ${capitalInicial:.2f}\")\n",
        "    print(f\"Tasa anual: {tasaAnual}%\")\n",
        "    print(f\"Anios: {anios}\")\n",
        "    print(f\"Frecuencia de capitalizacion: {frecuencia}\")\n",
        "    print(f\"--- Monto final: ${montoFinal:.2f} ---\")\n",
        "\n",
        "# -----------------------\n",
        "# Programa principal\n",
        "# -----------------------\n",
        "print(\"Calculadora de Interes Compuesto\")\n",
        "capitalInicial = float(input(\"Ingrese el capital inicial: \"))\n",
        "tasaAnual = float(input(\"Ingrese la tasa de interes anual (%): \"))\n",
        "anios = int(input(\"Ingrese el numero de anios: \"))\n",
        "frecuencia = input(\"Frecuencia de capitalizacion (anual, semestral, trimestral, mensual): \").strip().lower()\n",
        "calcularInteresCompuesto(capitalInicial, tasaAnual, anios, frecuencia)"
      ]
    }
  ]
}