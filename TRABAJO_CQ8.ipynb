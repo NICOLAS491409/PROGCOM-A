{
  "nbformat": 4,
  "nbformat_minor": 0,
  "metadata": {
    "colab": {
      "provenance": [],
      "authorship_tag": "ABX9TyMDefSVrLYAlQXs7xhVPZ3D",
      "include_colab_link": true
    },
    "kernelspec": {
      "name": "python3",
      "display_name": "Python 3"
    },
    "language_info": {
      "name": "python"
    }
  },
  "cells": [
    {
      "cell_type": "markdown",
      "metadata": {
        "id": "view-in-github",
        "colab_type": "text"
      },
      "source": [
        "<a href=\"https://colab.research.google.com/github/NICOLAS491409/PROGCOM-A/blob/main/TRABAJO_CQ8.ipynb\" target=\"_parent\"><img src=\"https://colab.research.google.com/assets/colab-badge.svg\" alt=\"Open In Colab\"/></a>"
      ]
    },
    {
      "cell_type": "markdown",
      "source": [
        "##REPOSITORIO DE ERRORES COMUNES EN PYTHON"
      ],
      "metadata": {
        "id": "6YoO3p2IDmEY"
      }
    },
    {
      "cell_type": "markdown",
      "source": [
        "#1.KEYERROR\n",
        "Cómo se produce:\n",
        "Se intenta acceder a una clave que no existe en un diccionario."
      ],
      "metadata": {
        "id": "Oem6QYLCDvjw"
      }
    },
    {
      "cell_type": "code",
      "source": [
        "# Error\n",
        "diccionario = {\"a\": 1, \"b\": 2}\n",
        "print(diccionario[\"c\"])  # KeyError: 'c'"
      ],
      "metadata": {
        "id": "I8v-IjCsEH5h"
      },
      "execution_count": null,
      "outputs": []
    },
    {
      "cell_type": "markdown",
      "source": [
        "Corrección: Usar .get() para evitar el error."
      ],
      "metadata": {
        "id": "SSM6SsJZEI3A"
      }
    },
    {
      "cell_type": "code",
      "source": [
        "print(diccionario.get(\"c\", \"Clave no encontrada\"))"
      ],
      "metadata": {
        "colab": {
          "base_uri": "https://localhost:8080/"
        },
        "id": "VYQ_YcLXEMJy",
        "outputId": "cdf98cad-ca26-48dd-8eef-d044b2092849"
      },
      "execution_count": 2,
      "outputs": [
        {
          "output_type": "stream",
          "name": "stdout",
          "text": [
            "Clave no encontrada\n"
          ]
        }
      ]
    },
    {
      "cell_type": "markdown",
      "source": [
        "##2.INDEXERROR\n",
        "Cómo se produce:\n",
        "Se intenta acceder a un índice fuera de rango en una lista."
      ],
      "metadata": {
        "id": "k3D4Dqy1EPJC"
      }
    },
    {
      "cell_type": "code",
      "source": [
        "# Error\n",
        "lista = [1, 2, 3]\n",
        "print(lista[5])  # IndexError"
      ],
      "metadata": {
        "id": "EFlBZ31dEX-o"
      },
      "execution_count": null,
      "outputs": []
    },
    {
      "cell_type": "markdown",
      "source": [
        "Corrección: Verificar la longitud de la lista antes de acceder."
      ],
      "metadata": {
        "id": "3h5ujH5FEagq"
      }
    },
    {
      "cell_type": "code",
      "source": [
        "if len(lista) > 5:\n",
        "    print(lista[5])\n",
        "else:\n",
        "    print(\"Índice fuera de rango\")"
      ],
      "metadata": {
        "id": "vyrPgRXjEfDI"
      },
      "execution_count": null,
      "outputs": []
    },
    {
      "cell_type": "markdown",
      "source": [
        "##3.ZERODIVISIÓNERROR"
      ],
      "metadata": {
        "id": "GQd1-RkAEhpy"
      }
    },
    {
      "cell_type": "markdown",
      "source": [
        "Cómo se produce:\n",
        "Ocurre al dividir un número entre 0."
      ],
      "metadata": {
        "id": "iUjSBhuGEm4N"
      }
    },
    {
      "cell_type": "code",
      "source": [
        "# Error\n",
        "x = 10 / 0  # ZeroDivisionError"
      ],
      "metadata": {
        "id": "qLX0aTgtEo9J"
      },
      "execution_count": null,
      "outputs": []
    },
    {
      "cell_type": "markdown",
      "source": [
        "Corrección: Verificar que el divisor no sea cero."
      ],
      "metadata": {
        "id": "5XLHcsw0ErTq"
      }
    },
    {
      "cell_type": "code",
      "source": [
        "divisor = 0\n",
        "if divisor != 0:\n",
        "    print(10 / divisor)\n",
        "else:\n",
        "    print(\"No se puede dividir entre cero\")"
      ],
      "metadata": {
        "id": "N82iW38jEucB"
      },
      "execution_count": null,
      "outputs": []
    },
    {
      "cell_type": "markdown",
      "source": [
        "##4.TYPEERROR\n",
        "Cómo se produce:\n",
        "Se intenta operar con tipos incompatibles."
      ],
      "metadata": {
        "id": "5agGfUryExQ5"
      }
    },
    {
      "cell_type": "code",
      "source": [
        "# Error\n",
        "numero = 5\n",
        "texto = \"hola\"\n",
        "print(numero + texto)  # TypeError"
      ],
      "metadata": {
        "id": "evUB8PT0FEoN"
      },
      "execution_count": null,
      "outputs": []
    },
    {
      "cell_type": "markdown",
      "source": [
        "Corrección: Convertir los tipos antes de operar."
      ],
      "metadata": {
        "id": "HcPVUsxiFGfz"
      }
    },
    {
      "cell_type": "code",
      "source": [
        "print(str(numero) + texto)  # \"5hola\""
      ],
      "metadata": {
        "id": "AmamNe8tFIcI"
      },
      "execution_count": null,
      "outputs": []
    },
    {
      "cell_type": "markdown",
      "source": [
        "##5.NameError\n",
        "Cómo se produce:\n",
        "Se usa una variable que no ha sido definida."
      ],
      "metadata": {
        "id": "HucKOWfOFKo_"
      }
    },
    {
      "cell_type": "code",
      "source": [
        "# Error\n",
        "print(resultado)  # NameError"
      ],
      "metadata": {
        "id": "EoD0bGFhFSYR"
      },
      "execution_count": null,
      "outputs": []
    },
    {
      "cell_type": "markdown",
      "source": [
        "Corrección: Definir la variable antes de usarla."
      ],
      "metadata": {
        "id": "Wlf-TrpKFUed"
      }
    },
    {
      "cell_type": "code",
      "source": [
        "resultado = 42\n",
        "print(resultado)"
      ],
      "metadata": {
        "id": "KP7zbaQcFWj7"
      },
      "execution_count": null,
      "outputs": []
    }
  ]
}